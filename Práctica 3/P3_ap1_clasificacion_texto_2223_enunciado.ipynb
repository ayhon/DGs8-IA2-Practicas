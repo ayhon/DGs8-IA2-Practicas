{
  "cells": [
    {
      "cell_type": "markdown",
      "source": [
        "# Práctica 3: Procesamiento del Lenguaje Natural\n",
        "\n",
        "__Fecha de entrega: 8 de mayo de 2023__\n",
        "\n",
        "El objetivo de esta práctica es aplicar los conceptos teóricos vistos en clase en el módulo de PLN. La práctica consta de 2 notebooks que se entregarán simultáneamente en la tarea de entrega habilitada en el Campus  Virtual.\n",
        "\n",
        "Lo más importante en esta práctica no es el código Python, sino el análisis de los datos y modelos que construyas y las explicaciones razonadas de cada una de las decisiones que tomes. __No se valorarán trozos de código o gráficas sin ningún tipo de contexto o explicación__.\n",
        "\n",
        "Finalmente, recuerda establecer el parámetro `random_state` en todas las funciones que tomen decisiones aleatorias para que los resultados sean reproducibles (los resultados no varíen entre ejecuciones)."
      ],
      "metadata": {
        "datalore": {
          "node_id": "DSBNPqLB3nBYcs2blsqpjh",
          "type": "MD",
          "hide_input_from_viewers": false,
          "hide_output_from_viewers": false,
          "report_properties": {
            "rowId": "DAWC3av5njPsq24TGUOPot"
          }
        },
        "id": "PocKfFRyaG7p"
      }
    },
    {
      "cell_type": "code",
      "source": [
        "from google.colab import drive\n",
        "drive.mount('/content/drive')"
      ],
      "metadata": {
        "colab": {
          "base_uri": "https://localhost:8080/"
        },
        "id": "UlQ2dMdhaOaj",
        "outputId": "76637ee0-c06f-45d2-aca8-0840f6585060"
      },
      "execution_count": null,
      "outputs": [
        {
          "output_type": "stream",
          "name": "stdout",
          "text": [
            "Mounted at /content/drive\n"
          ]
        }
      ]
    },
    {
      "cell_type": "code",
      "source": [
        "RANDOM_STATE = 1234"
      ],
      "execution_count": null,
      "outputs": [],
      "metadata": {
        "datalore": {
          "node_id": "IsNA3Nt0njA1KHJzb9yyhI",
          "type": "CODE",
          "hide_input_from_viewers": false,
          "hide_output_from_viewers": false,
          "report_properties": {
            "rowId": "T17kpeNzONxGse3e3lvkMV"
          }
        },
        "id": "7sJwm24naG7r"
      }
    },
    {
      "cell_type": "markdown",
      "source": [
        "# Apartado 1: Análisis de sentimientos"
      ],
      "metadata": {
        "datalore": {
          "node_id": "tXQKsXLVrVlWK4PQrwegiB",
          "type": "MD",
          "hide_input_from_viewers": false,
          "hide_output_from_viewers": false,
          "report_properties": {
            "rowId": "vZRaugsafcRRNWPPA91xbd"
          }
        },
        "id": "Cf9juZbdaG7s"
      }
    },
    {
      "cell_type": "markdown",
      "source": [
        "__Número de grupo: 1__\n",
        "\n",
        "__Nombres de los estudiantes: Fernando Leal Isaías y Jinqing Cai__"
      ],
      "metadata": {
        "datalore": {
          "node_id": "CqZpI9xeXp3HYCIKnAczFw",
          "type": "MD",
          "hide_input_from_viewers": false,
          "hide_output_from_viewers": false,
          "report_properties": {
            "rowId": "FbJjuTjBICwUV15evczWNg"
          }
        },
        "id": "AoGoVCF4aG7t"
      }
    },
    {
      "cell_type": "code",
      "source": [
        "import pandas as pd\n",
        "import numpy as np\n",
        "import nltk\n",
        "import re\n",
        "import matplotlib.pyplot as plt\n",
        "\n",
        "%matplotlib inline"
      ],
      "execution_count": null,
      "outputs": [],
      "metadata": {
        "datalore": {
          "node_id": "WutiacnlwBv0aaKdbaQRoP",
          "type": "CODE",
          "hide_input_from_viewers": false,
          "hide_output_from_viewers": false,
          "report_properties": {
            "rowId": "p7yS4eGqVUk19nilhVbs9V"
          }
        },
        "id": "VwENJ1J1aG7t"
      }
    },
    {
      "cell_type": "markdown",
      "source": [
        "## 1) Carga del conjunto de datos\n",
        "\n",
        "> El fichero `IMBD_Dataset.csv` contiene opiniones de películas clasificadas en 2 categorías diferentes (positiva/negativa).\n",
        "\n",
        "> Este set de datos se creó utilizando el \"IMDB Dataset of 50K Movie Reviews\", el cual contiene 50,000 reseñas de películas con un sentimiento positivo o negativo adjunto a ellas."
      ],
      "metadata": {
        "datalore": {
          "node_id": "zLR1kuYQd6gllpwOuWuV51",
          "type": "MD",
          "hide_input_from_viewers": false,
          "hide_output_from_viewers": false,
          "report_properties": {
            "rowId": "cX7OCml5ZZG34SSBxtTWfU"
          }
        },
        "id": "NeaT2apxaG7u"
      }
    },
    {
      "cell_type": "code",
      "source": [
        "imbd_file = '/content/drive/MyDrive/IA2/IMDB_Dataset.csv'\n",
        "\n",
        "df = pd.read_csv(imbd_file)\n",
        "df.head()"
      ],
      "execution_count": null,
      "outputs": [
        {
          "output_type": "execute_result",
          "data": {
            "text/plain": [
              "                                              review sentiment\n",
              "0  One of the other reviewers has mentioned that ...  positive\n",
              "1  A wonderful little production. <br /><br />The...  positive\n",
              "2  I thought this was a wonderful way to spend ti...  positive\n",
              "3  Basically there's a family where a little boy ...  negative\n",
              "4  Petter Mattei's \"Love in the Time of Money\" is...  positive"
            ],
            "text/html": [
              "\n",
              "  <div id=\"df-7ad1dacd-32ab-4ab4-bbee-3ed2310dfa36\">\n",
              "    <div class=\"colab-df-container\">\n",
              "      <div>\n",
              "<style scoped>\n",
              "    .dataframe tbody tr th:only-of-type {\n",
              "        vertical-align: middle;\n",
              "    }\n",
              "\n",
              "    .dataframe tbody tr th {\n",
              "        vertical-align: top;\n",
              "    }\n",
              "\n",
              "    .dataframe thead th {\n",
              "        text-align: right;\n",
              "    }\n",
              "</style>\n",
              "<table border=\"1\" class=\"dataframe\">\n",
              "  <thead>\n",
              "    <tr style=\"text-align: right;\">\n",
              "      <th></th>\n",
              "      <th>review</th>\n",
              "      <th>sentiment</th>\n",
              "    </tr>\n",
              "  </thead>\n",
              "  <tbody>\n",
              "    <tr>\n",
              "      <th>0</th>\n",
              "      <td>One of the other reviewers has mentioned that ...</td>\n",
              "      <td>positive</td>\n",
              "    </tr>\n",
              "    <tr>\n",
              "      <th>1</th>\n",
              "      <td>A wonderful little production. &lt;br /&gt;&lt;br /&gt;The...</td>\n",
              "      <td>positive</td>\n",
              "    </tr>\n",
              "    <tr>\n",
              "      <th>2</th>\n",
              "      <td>I thought this was a wonderful way to spend ti...</td>\n",
              "      <td>positive</td>\n",
              "    </tr>\n",
              "    <tr>\n",
              "      <th>3</th>\n",
              "      <td>Basically there's a family where a little boy ...</td>\n",
              "      <td>negative</td>\n",
              "    </tr>\n",
              "    <tr>\n",
              "      <th>4</th>\n",
              "      <td>Petter Mattei's \"Love in the Time of Money\" is...</td>\n",
              "      <td>positive</td>\n",
              "    </tr>\n",
              "  </tbody>\n",
              "</table>\n",
              "</div>\n",
              "      <button class=\"colab-df-convert\" onclick=\"convertToInteractive('df-7ad1dacd-32ab-4ab4-bbee-3ed2310dfa36')\"\n",
              "              title=\"Convert this dataframe to an interactive table.\"\n",
              "              style=\"display:none;\">\n",
              "        \n",
              "  <svg xmlns=\"http://www.w3.org/2000/svg\" height=\"24px\"viewBox=\"0 0 24 24\"\n",
              "       width=\"24px\">\n",
              "    <path d=\"M0 0h24v24H0V0z\" fill=\"none\"/>\n",
              "    <path d=\"M18.56 5.44l.94 2.06.94-2.06 2.06-.94-2.06-.94-.94-2.06-.94 2.06-2.06.94zm-11 1L8.5 8.5l.94-2.06 2.06-.94-2.06-.94L8.5 2.5l-.94 2.06-2.06.94zm10 10l.94 2.06.94-2.06 2.06-.94-2.06-.94-.94-2.06-.94 2.06-2.06.94z\"/><path d=\"M17.41 7.96l-1.37-1.37c-.4-.4-.92-.59-1.43-.59-.52 0-1.04.2-1.43.59L10.3 9.45l-7.72 7.72c-.78.78-.78 2.05 0 2.83L4 21.41c.39.39.9.59 1.41.59.51 0 1.02-.2 1.41-.59l7.78-7.78 2.81-2.81c.8-.78.8-2.07 0-2.86zM5.41 20L4 18.59l7.72-7.72 1.47 1.35L5.41 20z\"/>\n",
              "  </svg>\n",
              "      </button>\n",
              "      \n",
              "  <style>\n",
              "    .colab-df-container {\n",
              "      display:flex;\n",
              "      flex-wrap:wrap;\n",
              "      gap: 12px;\n",
              "    }\n",
              "\n",
              "    .colab-df-convert {\n",
              "      background-color: #E8F0FE;\n",
              "      border: none;\n",
              "      border-radius: 50%;\n",
              "      cursor: pointer;\n",
              "      display: none;\n",
              "      fill: #1967D2;\n",
              "      height: 32px;\n",
              "      padding: 0 0 0 0;\n",
              "      width: 32px;\n",
              "    }\n",
              "\n",
              "    .colab-df-convert:hover {\n",
              "      background-color: #E2EBFA;\n",
              "      box-shadow: 0px 1px 2px rgba(60, 64, 67, 0.3), 0px 1px 3px 1px rgba(60, 64, 67, 0.15);\n",
              "      fill: #174EA6;\n",
              "    }\n",
              "\n",
              "    [theme=dark] .colab-df-convert {\n",
              "      background-color: #3B4455;\n",
              "      fill: #D2E3FC;\n",
              "    }\n",
              "\n",
              "    [theme=dark] .colab-df-convert:hover {\n",
              "      background-color: #434B5C;\n",
              "      box-shadow: 0px 1px 3px 1px rgba(0, 0, 0, 0.15);\n",
              "      filter: drop-shadow(0px 1px 2px rgba(0, 0, 0, 0.3));\n",
              "      fill: #FFFFFF;\n",
              "    }\n",
              "  </style>\n",
              "\n",
              "      <script>\n",
              "        const buttonEl =\n",
              "          document.querySelector('#df-7ad1dacd-32ab-4ab4-bbee-3ed2310dfa36 button.colab-df-convert');\n",
              "        buttonEl.style.display =\n",
              "          google.colab.kernel.accessAllowed ? 'block' : 'none';\n",
              "\n",
              "        async function convertToInteractive(key) {\n",
              "          const element = document.querySelector('#df-7ad1dacd-32ab-4ab4-bbee-3ed2310dfa36');\n",
              "          const dataTable =\n",
              "            await google.colab.kernel.invokeFunction('convertToInteractive',\n",
              "                                                     [key], {});\n",
              "          if (!dataTable) return;\n",
              "\n",
              "          const docLinkHtml = 'Like what you see? Visit the ' +\n",
              "            '<a target=\"_blank\" href=https://colab.research.google.com/notebooks/data_table.ipynb>data table notebook</a>'\n",
              "            + ' to learn more about interactive tables.';\n",
              "          element.innerHTML = '';\n",
              "          dataTable['output_type'] = 'display_data';\n",
              "          await google.colab.output.renderOutput(dataTable, element);\n",
              "          const docLink = document.createElement('div');\n",
              "          docLink.innerHTML = docLinkHtml;\n",
              "          element.appendChild(docLink);\n",
              "        }\n",
              "      </script>\n",
              "    </div>\n",
              "  </div>\n",
              "  "
            ]
          },
          "metadata": {},
          "execution_count": 4
        }
      ],
      "metadata": {
        "datalore": {
          "node_id": "I6jTFLs9RjtdRxlECtGeMh",
          "type": "CODE",
          "hide_input_from_viewers": false,
          "hide_output_from_viewers": false,
          "report_properties": {
            "rowId": "Pn7v52CEAeR6JRGfTYYk48"
          }
        },
        "colab": {
          "base_uri": "https://localhost:8080/",
          "height": 206
        },
        "id": "FpwnokFDaG7u",
        "outputId": "e670d4ef-3762-46eb-984c-ffa30cc17133"
      }
    },
    {
      "cell_type": "markdown",
      "source": [
        "\n",
        "> Muestra un ejemplo de cada clase."
      ],
      "metadata": {
        "datalore": {
          "node_id": "HKSJ4cCUem4gzSgsiglbPV",
          "type": "MD",
          "hide_input_from_viewers": true,
          "hide_output_from_viewers": true
        },
        "id": "NA1o5168aG7v"
      }
    },
    {
      "cell_type": "code",
      "source": [
        "# Hay dos clases: positivo o negativo\n",
        "pd.concat(df[df.sentiment == sentiment].head(1) for sentiment in (\"positive\", \"negative\"))"
      ],
      "execution_count": null,
      "outputs": [
        {
          "output_type": "execute_result",
          "data": {
            "text/plain": [
              "                                              review sentiment\n",
              "0  One of the other reviewers has mentioned that ...  positive\n",
              "3  Basically there's a family where a little boy ...  negative"
            ],
            "text/html": [
              "\n",
              "  <div id=\"df-b4d81345-b89d-4316-be22-13c6f2987f97\">\n",
              "    <div class=\"colab-df-container\">\n",
              "      <div>\n",
              "<style scoped>\n",
              "    .dataframe tbody tr th:only-of-type {\n",
              "        vertical-align: middle;\n",
              "    }\n",
              "\n",
              "    .dataframe tbody tr th {\n",
              "        vertical-align: top;\n",
              "    }\n",
              "\n",
              "    .dataframe thead th {\n",
              "        text-align: right;\n",
              "    }\n",
              "</style>\n",
              "<table border=\"1\" class=\"dataframe\">\n",
              "  <thead>\n",
              "    <tr style=\"text-align: right;\">\n",
              "      <th></th>\n",
              "      <th>review</th>\n",
              "      <th>sentiment</th>\n",
              "    </tr>\n",
              "  </thead>\n",
              "  <tbody>\n",
              "    <tr>\n",
              "      <th>0</th>\n",
              "      <td>One of the other reviewers has mentioned that ...</td>\n",
              "      <td>positive</td>\n",
              "    </tr>\n",
              "    <tr>\n",
              "      <th>3</th>\n",
              "      <td>Basically there's a family where a little boy ...</td>\n",
              "      <td>negative</td>\n",
              "    </tr>\n",
              "  </tbody>\n",
              "</table>\n",
              "</div>\n",
              "      <button class=\"colab-df-convert\" onclick=\"convertToInteractive('df-b4d81345-b89d-4316-be22-13c6f2987f97')\"\n",
              "              title=\"Convert this dataframe to an interactive table.\"\n",
              "              style=\"display:none;\">\n",
              "        \n",
              "  <svg xmlns=\"http://www.w3.org/2000/svg\" height=\"24px\"viewBox=\"0 0 24 24\"\n",
              "       width=\"24px\">\n",
              "    <path d=\"M0 0h24v24H0V0z\" fill=\"none\"/>\n",
              "    <path d=\"M18.56 5.44l.94 2.06.94-2.06 2.06-.94-2.06-.94-.94-2.06-.94 2.06-2.06.94zm-11 1L8.5 8.5l.94-2.06 2.06-.94-2.06-.94L8.5 2.5l-.94 2.06-2.06.94zm10 10l.94 2.06.94-2.06 2.06-.94-2.06-.94-.94-2.06-.94 2.06-2.06.94z\"/><path d=\"M17.41 7.96l-1.37-1.37c-.4-.4-.92-.59-1.43-.59-.52 0-1.04.2-1.43.59L10.3 9.45l-7.72 7.72c-.78.78-.78 2.05 0 2.83L4 21.41c.39.39.9.59 1.41.59.51 0 1.02-.2 1.41-.59l7.78-7.78 2.81-2.81c.8-.78.8-2.07 0-2.86zM5.41 20L4 18.59l7.72-7.72 1.47 1.35L5.41 20z\"/>\n",
              "  </svg>\n",
              "      </button>\n",
              "      \n",
              "  <style>\n",
              "    .colab-df-container {\n",
              "      display:flex;\n",
              "      flex-wrap:wrap;\n",
              "      gap: 12px;\n",
              "    }\n",
              "\n",
              "    .colab-df-convert {\n",
              "      background-color: #E8F0FE;\n",
              "      border: none;\n",
              "      border-radius: 50%;\n",
              "      cursor: pointer;\n",
              "      display: none;\n",
              "      fill: #1967D2;\n",
              "      height: 32px;\n",
              "      padding: 0 0 0 0;\n",
              "      width: 32px;\n",
              "    }\n",
              "\n",
              "    .colab-df-convert:hover {\n",
              "      background-color: #E2EBFA;\n",
              "      box-shadow: 0px 1px 2px rgba(60, 64, 67, 0.3), 0px 1px 3px 1px rgba(60, 64, 67, 0.15);\n",
              "      fill: #174EA6;\n",
              "    }\n",
              "\n",
              "    [theme=dark] .colab-df-convert {\n",
              "      background-color: #3B4455;\n",
              "      fill: #D2E3FC;\n",
              "    }\n",
              "\n",
              "    [theme=dark] .colab-df-convert:hover {\n",
              "      background-color: #434B5C;\n",
              "      box-shadow: 0px 1px 3px 1px rgba(0, 0, 0, 0.15);\n",
              "      filter: drop-shadow(0px 1px 2px rgba(0, 0, 0, 0.3));\n",
              "      fill: #FFFFFF;\n",
              "    }\n",
              "  </style>\n",
              "\n",
              "      <script>\n",
              "        const buttonEl =\n",
              "          document.querySelector('#df-b4d81345-b89d-4316-be22-13c6f2987f97 button.colab-df-convert');\n",
              "        buttonEl.style.display =\n",
              "          google.colab.kernel.accessAllowed ? 'block' : 'none';\n",
              "\n",
              "        async function convertToInteractive(key) {\n",
              "          const element = document.querySelector('#df-b4d81345-b89d-4316-be22-13c6f2987f97');\n",
              "          const dataTable =\n",
              "            await google.colab.kernel.invokeFunction('convertToInteractive',\n",
              "                                                     [key], {});\n",
              "          if (!dataTable) return;\n",
              "\n",
              "          const docLinkHtml = 'Like what you see? Visit the ' +\n",
              "            '<a target=\"_blank\" href=https://colab.research.google.com/notebooks/data_table.ipynb>data table notebook</a>'\n",
              "            + ' to learn more about interactive tables.';\n",
              "          element.innerHTML = '';\n",
              "          dataTable['output_type'] = 'display_data';\n",
              "          await google.colab.output.renderOutput(dataTable, element);\n",
              "          const docLink = document.createElement('div');\n",
              "          docLink.innerHTML = docLinkHtml;\n",
              "          element.appendChild(docLink);\n",
              "        }\n",
              "      </script>\n",
              "    </div>\n",
              "  </div>\n",
              "  "
            ]
          },
          "metadata": {},
          "execution_count": 5
        }
      ],
      "metadata": {
        "datalore": {
          "node_id": "4Vs3iaZU2YGz5JrzRyWm3C",
          "type": "CODE",
          "hide_input_from_viewers": true,
          "hide_output_from_viewers": true
        },
        "colab": {
          "base_uri": "https://localhost:8080/",
          "height": 112
        },
        "id": "xkH_Pb2VaG7v",
        "outputId": "22a4c146-1097-47c5-fd08-53f836351d71"
      }
    },
    {
      "cell_type": "markdown",
      "source": [
        "> Haz un estudio del conjunto de datos. ¿qué palabras aparecen más veces?, ¿tendría sentido normalizar de alguna manera el corpus?"
      ],
      "metadata": {
        "datalore": {
          "node_id": "Tag7jC9iC3cYmT62ySiyyb",
          "type": "MD",
          "hide_input_from_viewers": true,
          "hide_output_from_viewers": true
        },
        "id": "2cLEZqgfaG7v"
      }
    },
    {
      "cell_type": "markdown",
      "source": [
        "Lo primero, para contar el número de apariciones de una palabra en el conjunto de datos, pasamos a transformar nuestros documentos en bolsas de palabras. "
      ],
      "metadata": {
        "datalore": {
          "node_id": "DfHQkMumMi2A58CapHRXZF",
          "type": "MD",
          "hide_input_from_viewers": true,
          "hide_output_from_viewers": true
        },
        "id": "jiv7YCgXaG7v"
      }
    },
    {
      "cell_type": "code",
      "source": [
        "from sklearn.feature_extraction.text import CountVectorizer\n",
        "\n",
        "vectorizer = CountVectorizer(stop_words='english')\n",
        "# Tomamos los textos del conjunto de entrenamiento y los transformamos en \n",
        "# una matriz de datos (palabras) según el diccionario estándar\n",
        "doc_word_freq = vectorizer.fit_transform(df.review)\n",
        "doc_word_freq"
      ],
      "execution_count": null,
      "outputs": [
        {
          "output_type": "execute_result",
          "data": {
            "text/plain": [
              "<50000x101583 sparse matrix of type '<class 'numpy.int64'>'\n",
              "\twith 4434500 stored elements in Compressed Sparse Row format>"
            ]
          },
          "metadata": {},
          "execution_count": 6
        }
      ],
      "metadata": {
        "datalore": {
          "node_id": "BeFh9TIPwnktTSQukfxJot",
          "type": "CODE",
          "hide_input_from_viewers": true,
          "hide_output_from_viewers": true
        },
        "colab": {
          "base_uri": "https://localhost:8080/"
        },
        "id": "x0yObw5naG7w",
        "outputId": "19cefbbe-fa8c-444e-ae77-bf08626e44db"
      }
    },
    {
      "cell_type": "markdown",
      "source": [
        "`vector_data` es ahora una matriz de $50,000 \\times 101,583$ donde para cada review $r$ y cada palabra $i$ nos asocia el número de apariciones de $i$ en $r$"
      ],
      "metadata": {
        "datalore": {
          "node_id": "9gsu99PDSu9ctc1UvSV8aA",
          "type": "MD",
          "hide_input_from_viewers": true,
          "hide_output_from_viewers": true
        },
        "id": "f9-Ybj9yaG7w"
      }
    },
    {
      "cell_type": "code",
      "source": [
        "#print([(i,count) for i in range(vector_data.shape[0]) if (count := vector_data[11,i]) > 0])\n",
        "r = 11\n",
        "i = 151\n",
        "feature_names = vectorizer.get_feature_names_out()\n",
        "feature_names[i], doc_word_freq[r,i]"
      ],
      "execution_count": null,
      "outputs": [
        {
          "output_type": "execute_result",
          "data": {
            "text/plain": [
              "('12', 2)"
            ]
          },
          "metadata": {},
          "execution_count": 7
        }
      ],
      "metadata": {
        "datalore": {
          "node_id": "jGbNTVSrzuYZbeIYu4paKt",
          "type": "CODE",
          "hide_input_from_viewers": true,
          "hide_output_from_viewers": true
        },
        "colab": {
          "base_uri": "https://localhost:8080/"
        },
        "id": "kDrG2x1EaG7w",
        "outputId": "810f7e03-bda5-4194-ece3-81511a2bb251"
      }
    },
    {
      "cell_type": "markdown",
      "source": [
        "Esto nos dice que hay 2 apariciones de la palabra 151 (que se corresponde con el string `\"12\"`) en la review 11"
      ],
      "metadata": {
        "datalore": {
          "node_id": "VlK0ysOG83iy8zrqnrC5zU",
          "type": "MD",
          "hide_input_from_viewers": true,
          "hide_output_from_viewers": true
        },
        "id": "fReY_GU5aG7w"
      }
    },
    {
      "cell_type": "code",
      "source": [
        "review_11 = df.loc[11].review\n",
        "palabra_151 = feature_names[151]\n",
        "review_11.count(palabra_151) == doc_word_freq[r,i]"
      ],
      "execution_count": null,
      "outputs": [
        {
          "output_type": "execute_result",
          "data": {
            "text/plain": [
              "True"
            ]
          },
          "metadata": {},
          "execution_count": 8
        }
      ],
      "metadata": {
        "datalore": {
          "node_id": "gKWMt9TAQhghpuqUA2Vuee",
          "type": "CODE",
          "hide_input_from_viewers": true,
          "hide_output_from_viewers": true
        },
        "colab": {
          "base_uri": "https://localhost:8080/"
        },
        "id": "vvw-YrIPaG7x",
        "outputId": "b145f936-54b9-4caa-d0e7-b4051d8e803a"
      }
    },
    {
      "cell_type": "markdown",
      "source": [
        "Para sacar la palabra que aparece con más frecuencia, hacemos una **suma de las apariciones de cada palabra** en general, y buscamos aquella "
      ],
      "metadata": {
        "datalore": {
          "node_id": "yfnhjLLobFDxNaCsMfrJqc",
          "type": "MD",
          "hide_input_from_viewers": true,
          "hide_output_from_viewers": true
        },
        "id": "RmQ1sLsVaG7x"
      }
    },
    {
      "cell_type": "code",
      "source": [
        "def get_top_10_freq_words(vector_data):\n",
        "    word_freq = np.squeeze(np.asarray(vector_data.sum(axis=0)))\n",
        "    top_10_freq_words = word_freq.argsort()[::-1][:10]\n",
        "    return top_10_freq_words, word_freq"
      ],
      "execution_count": null,
      "outputs": [],
      "metadata": {
        "datalore": {
          "node_id": "iOgXdVkGJLYWpFvQZHLkRh",
          "type": "CODE",
          "hide_input_from_viewers": true,
          "hide_output_from_viewers": true
        },
        "id": "8XNEgBziaG7x"
      }
    },
    {
      "cell_type": "code",
      "source": [
        "top_10_freq_words, word_freq = get_top_10_freq_words(doc_word_freq)\n",
        "for top, word in enumerate(top_10_freq_words):\n",
        "    print(f\"Position {top + 1}: {feature_names[word]} with frequency {word_freq[word]}\")"
      ],
      "execution_count": null,
      "outputs": [
        {
          "output_type": "stream",
          "name": "stdout",
          "text": [
            "Position 1: br with frequency 201951\n",
            "Position 2: movie with frequency 87971\n",
            "Position 3: film with frequency 79705\n",
            "Position 4: like with frequency 40172\n",
            "Position 5: just with frequency 35184\n",
            "Position 6: good with frequency 29753\n",
            "Position 7: time with frequency 25110\n",
            "Position 8: story with frequency 23119\n",
            "Position 9: really with frequency 23094\n",
            "Position 10: bad with frequency 18473\n"
          ]
        }
      ],
      "metadata": {
        "datalore": {
          "node_id": "Nr1egqa1xDbTvfBbrCVBpi",
          "type": "CODE",
          "hide_input_from_viewers": true,
          "hide_output_from_viewers": true
        },
        "colab": {
          "base_uri": "https://localhost:8080/"
        },
        "id": "zbaufEShaG7x",
        "outputId": "d9d89974-716d-4eee-8041-ddb01fa5f6e2"
      }
    },
    {
      "cell_type": "markdown",
      "source": [
        "Aparece palabras como `br`, que es la etiqueta de HTML para hacer cambio de línea (normal que aparezca en nuestro dataset, pues es conjunto de reseñas de películas extraidas de una página web).\n",
        "\n",
        "Por lo tanto, es necesario que hacer un preprocesamiento del dataset eliminando a estas palabras que no aportan ninguna información a la hora de clasificar los textos. "
      ],
      "metadata": {
        "datalore": {
          "node_id": "GG99k3k4HksCMnrJfljDl0",
          "type": "MD",
          "hide_input_from_viewers": true,
          "hide_output_from_viewers": true
        },
        "id": "8NdGjY7LaG7y"
      }
    },
    {
      "cell_type": "markdown",
      "source": [
        "Vamos a probar **normalizar** los documentos, y ver cómo cambia:"
      ],
      "metadata": {
        "datalore": {
          "node_id": "0WM2KXh10p2aQen1QI1HuE",
          "type": "MD",
          "hide_input_from_viewers": true,
          "hide_output_from_viewers": true
        },
        "id": "QCxQ5QP1aG7y"
      }
    },
    {
      "cell_type": "markdown",
      "source": [
        "Para normalizar los documentos, quitamos todos los caracteres que no sean letras del abecedario o espacios, pasamos todo el texto a minúsculas y le quitamos los espacios de inicio y final. Una vez hecho esto, usamos el `WordPunctTokenizer` de `nltk` para separar los elementos por palabras, y hacemos un último filtro en el que quitamos palabras de la lista `stop_words`. Esta lista la hemos obtenido de `nltk` también, pero además hemos añadido `br`, puesto que no ofrece ninguna información semántica."
      ],
      "metadata": {
        "datalore": {
          "node_id": "D5R7BxA4BfmQgBLK8Ahckm",
          "type": "MD",
          "hide_input_from_viewers": true,
          "hide_output_from_viewers": true
        },
        "id": "nEoP7drGaG7y"
      }
    },
    {
      "cell_type": "code",
      "source": [
        "wpt = nltk.WordPunctTokenizer()\n",
        "nltk.download('stopwords')\n",
        "stop_words = nltk.corpus.stopwords.words('english') + ['br']\n",
        "\n",
        "@np.vectorize\n",
        "def normalize_corpus(doc):\n",
        "    # lower case and remove special characters\\whitespaces\n",
        "    doc = re.sub(r'[^a-zA-Z\\s]', '', doc, re.I|re.A)\n",
        "    doc = doc.lower()\n",
        "    doc = doc.strip()\n",
        "    # tokenize document\n",
        "    tokens = wpt.tokenize(doc)\n",
        "    # filter stopwords out of document\n",
        "    filtered_tokens = [token for token in tokens if token not in stop_words]\n",
        "    # re-create document from filtered tokens\n",
        "    doc = ' '.join(filtered_tokens)\n",
        "    return doc"
      ],
      "execution_count": null,
      "outputs": [
        {
          "output_type": "stream",
          "name": "stderr",
          "text": [
            "[nltk_data] Downloading package stopwords to /root/nltk_data...\n",
            "[nltk_data]   Unzipping corpora/stopwords.zip.\n"
          ]
        }
      ],
      "metadata": {
        "datalore": {
          "node_id": "1tviZp1gX5GPkDhkSeGqHI",
          "type": "CODE",
          "hide_input_from_viewers": true,
          "hide_output_from_viewers": true
        },
        "colab": {
          "base_uri": "https://localhost:8080/"
        },
        "id": "b7QPz58ZaG7y",
        "outputId": "65de3a5a-e26f-42d2-f472-9f50d36733f6"
      }
    },
    {
      "cell_type": "markdown",
      "source": [
        "Procedemos a aplicar la normalización descrita a las reseñas de nuestros datos"
      ],
      "metadata": {
        "datalore": {
          "node_id": "5XXZDp6M8m43vPC6ygjpHv",
          "type": "MD",
          "hide_input_from_viewers": true,
          "hide_output_from_viewers": true
        },
        "id": "b-eHA81RaG7y"
      }
    },
    {
      "cell_type": "code",
      "source": [
        "normalized_reviews = normalize_corpus(df.review)"
      ],
      "execution_count": null,
      "outputs": [],
      "metadata": {
        "datalore": {
          "node_id": "aoofXmCBrf224lR30KuXMP",
          "type": "CODE",
          "hide_input_from_viewers": true,
          "hide_output_from_viewers": true
        },
        "id": "ifd_41UWaG7y"
      }
    },
    {
      "cell_type": "markdown",
      "source": [
        "Y repetimos el estudio de las palabras más frecuentes que hicimos antes, pero con los documentos normalizados "
      ],
      "metadata": {
        "datalore": {
          "node_id": "suhptx336ftPd0zCHF7cXW",
          "type": "MD",
          "hide_input_from_viewers": true,
          "hide_output_from_viewers": true
        },
        "id": "lRGl-rXgaG7y"
      }
    },
    {
      "cell_type": "code",
      "source": [
        "vectorizer = CountVectorizer(stop_words='english')\n",
        "doc_word_freq = vectorizer.fit_transform(normalized_reviews)\n",
        "feature_names = vectorizer.get_feature_names_out()\n",
        "word_freq = np.squeeze(np.asarray(doc_word_freq.sum(axis=0)))\n",
        "\n",
        "top_10_freq_words = word_freq.argsort()[::-1][:10]\n",
        "for top, word in enumerate(top_10_freq_words):\n",
        "    print(f\"Position {top + 1}: {feature_names[word]} with frequency {word_freq[word]}\")"
      ],
      "execution_count": null,
      "outputs": [
        {
          "output_type": "stream",
          "name": "stdout",
          "text": [
            "Position 1: movie with frequency 83536\n",
            "Position 2: film with frequency 74478\n",
            "Position 3: like with frequency 39001\n",
            "Position 4: good with frequency 28575\n",
            "Position 5: time with frequency 23276\n",
            "Position 6: really with frequency 22951\n",
            "Position 7: story with frequency 22103\n",
            "Position 8: great with frequency 17821\n",
            "Position 9: bad with frequency 17720\n",
            "Position 10: people with frequency 17542\n"
          ]
        }
      ],
      "metadata": {
        "datalore": {
          "node_id": "6LTRPMeilYKMokBvuJNyf9",
          "type": "CODE",
          "hide_input_from_viewers": true,
          "hide_output_from_viewers": true
        },
        "colab": {
          "base_uri": "https://localhost:8080/"
        },
        "id": "XZREJBBjaG7z",
        "outputId": "93c24d6a-44d6-4bb3-ca5c-9ec0f8023568"
      }
    },
    {
      "cell_type": "markdown",
      "source": [
        "Podemos observar que ahora las palabras más frecuentes son palabras que nos dan más información. Tiene sentido que `movie` y `film` sean las palabras más usadas, puesto que nuestro banco de datos son de reseñas de películas. También tiene sentido que aparezcan palabras como `like`, `good`, `great` o `bad`, pues la gente ha escrito las reseñas con la intención de compartir su opinión de las películas"
      ],
      "metadata": {
        "datalore": {
          "node_id": "NTkxYZfrSBNKjNydlotDwH",
          "type": "MD",
          "hide_input_from_viewers": true,
          "hide_output_from_viewers": true
        },
        "id": "oWPBdR4XaG7z"
      }
    },
    {
      "cell_type": "markdown",
      "source": [
        "**De ahora en adelante, usaremos el corpus normalizado**"
      ],
      "metadata": {
        "datalore": {
          "node_id": "ZSFxdOC7jA30dyWAxR2GAi",
          "type": "MD",
          "hide_input_from_viewers": true,
          "hide_output_from_viewers": true
        },
        "id": "0fkxLL4ZaG7z"
      }
    },
    {
      "cell_type": "code",
      "source": [
        "df2 = pd.DataFrame({\"reviews\": normalized_reviews, \"sentiment\": df.sentiment})\n",
        "df_sin_normalizar = df\n",
        "df = df2\n",
        "df.head()"
      ],
      "execution_count": null,
      "outputs": [
        {
          "output_type": "execute_result",
          "data": {
            "text/plain": [
              "                                             reviews sentiment\n",
              "0  one reviewers mentioned watching oz episode yo...  positive\n",
              "1  wonderful little production filming technique ...  positive\n",
              "2  thought wonderful way spend time hot summer we...  positive\n",
              "3  basically theres family little boy jake thinks...  negative\n",
              "4  petter matteis love time money visually stunni...  positive"
            ],
            "text/html": [
              "\n",
              "  <div id=\"df-36f0d59e-5631-410d-a8ef-0f80eccdbb96\">\n",
              "    <div class=\"colab-df-container\">\n",
              "      <div>\n",
              "<style scoped>\n",
              "    .dataframe tbody tr th:only-of-type {\n",
              "        vertical-align: middle;\n",
              "    }\n",
              "\n",
              "    .dataframe tbody tr th {\n",
              "        vertical-align: top;\n",
              "    }\n",
              "\n",
              "    .dataframe thead th {\n",
              "        text-align: right;\n",
              "    }\n",
              "</style>\n",
              "<table border=\"1\" class=\"dataframe\">\n",
              "  <thead>\n",
              "    <tr style=\"text-align: right;\">\n",
              "      <th></th>\n",
              "      <th>reviews</th>\n",
              "      <th>sentiment</th>\n",
              "    </tr>\n",
              "  </thead>\n",
              "  <tbody>\n",
              "    <tr>\n",
              "      <th>0</th>\n",
              "      <td>one reviewers mentioned watching oz episode yo...</td>\n",
              "      <td>positive</td>\n",
              "    </tr>\n",
              "    <tr>\n",
              "      <th>1</th>\n",
              "      <td>wonderful little production filming technique ...</td>\n",
              "      <td>positive</td>\n",
              "    </tr>\n",
              "    <tr>\n",
              "      <th>2</th>\n",
              "      <td>thought wonderful way spend time hot summer we...</td>\n",
              "      <td>positive</td>\n",
              "    </tr>\n",
              "    <tr>\n",
              "      <th>3</th>\n",
              "      <td>basically theres family little boy jake thinks...</td>\n",
              "      <td>negative</td>\n",
              "    </tr>\n",
              "    <tr>\n",
              "      <th>4</th>\n",
              "      <td>petter matteis love time money visually stunni...</td>\n",
              "      <td>positive</td>\n",
              "    </tr>\n",
              "  </tbody>\n",
              "</table>\n",
              "</div>\n",
              "      <button class=\"colab-df-convert\" onclick=\"convertToInteractive('df-36f0d59e-5631-410d-a8ef-0f80eccdbb96')\"\n",
              "              title=\"Convert this dataframe to an interactive table.\"\n",
              "              style=\"display:none;\">\n",
              "        \n",
              "  <svg xmlns=\"http://www.w3.org/2000/svg\" height=\"24px\"viewBox=\"0 0 24 24\"\n",
              "       width=\"24px\">\n",
              "    <path d=\"M0 0h24v24H0V0z\" fill=\"none\"/>\n",
              "    <path d=\"M18.56 5.44l.94 2.06.94-2.06 2.06-.94-2.06-.94-.94-2.06-.94 2.06-2.06.94zm-11 1L8.5 8.5l.94-2.06 2.06-.94-2.06-.94L8.5 2.5l-.94 2.06-2.06.94zm10 10l.94 2.06.94-2.06 2.06-.94-2.06-.94-.94-2.06-.94 2.06-2.06.94z\"/><path d=\"M17.41 7.96l-1.37-1.37c-.4-.4-.92-.59-1.43-.59-.52 0-1.04.2-1.43.59L10.3 9.45l-7.72 7.72c-.78.78-.78 2.05 0 2.83L4 21.41c.39.39.9.59 1.41.59.51 0 1.02-.2 1.41-.59l7.78-7.78 2.81-2.81c.8-.78.8-2.07 0-2.86zM5.41 20L4 18.59l7.72-7.72 1.47 1.35L5.41 20z\"/>\n",
              "  </svg>\n",
              "      </button>\n",
              "      \n",
              "  <style>\n",
              "    .colab-df-container {\n",
              "      display:flex;\n",
              "      flex-wrap:wrap;\n",
              "      gap: 12px;\n",
              "    }\n",
              "\n",
              "    .colab-df-convert {\n",
              "      background-color: #E8F0FE;\n",
              "      border: none;\n",
              "      border-radius: 50%;\n",
              "      cursor: pointer;\n",
              "      display: none;\n",
              "      fill: #1967D2;\n",
              "      height: 32px;\n",
              "      padding: 0 0 0 0;\n",
              "      width: 32px;\n",
              "    }\n",
              "\n",
              "    .colab-df-convert:hover {\n",
              "      background-color: #E2EBFA;\n",
              "      box-shadow: 0px 1px 2px rgba(60, 64, 67, 0.3), 0px 1px 3px 1px rgba(60, 64, 67, 0.15);\n",
              "      fill: #174EA6;\n",
              "    }\n",
              "\n",
              "    [theme=dark] .colab-df-convert {\n",
              "      background-color: #3B4455;\n",
              "      fill: #D2E3FC;\n",
              "    }\n",
              "\n",
              "    [theme=dark] .colab-df-convert:hover {\n",
              "      background-color: #434B5C;\n",
              "      box-shadow: 0px 1px 3px 1px rgba(0, 0, 0, 0.15);\n",
              "      filter: drop-shadow(0px 1px 2px rgba(0, 0, 0, 0.3));\n",
              "      fill: #FFFFFF;\n",
              "    }\n",
              "  </style>\n",
              "\n",
              "      <script>\n",
              "        const buttonEl =\n",
              "          document.querySelector('#df-36f0d59e-5631-410d-a8ef-0f80eccdbb96 button.colab-df-convert');\n",
              "        buttonEl.style.display =\n",
              "          google.colab.kernel.accessAllowed ? 'block' : 'none';\n",
              "\n",
              "        async function convertToInteractive(key) {\n",
              "          const element = document.querySelector('#df-36f0d59e-5631-410d-a8ef-0f80eccdbb96');\n",
              "          const dataTable =\n",
              "            await google.colab.kernel.invokeFunction('convertToInteractive',\n",
              "                                                     [key], {});\n",
              "          if (!dataTable) return;\n",
              "\n",
              "          const docLinkHtml = 'Like what you see? Visit the ' +\n",
              "            '<a target=\"_blank\" href=https://colab.research.google.com/notebooks/data_table.ipynb>data table notebook</a>'\n",
              "            + ' to learn more about interactive tables.';\n",
              "          element.innerHTML = '';\n",
              "          dataTable['output_type'] = 'display_data';\n",
              "          await google.colab.output.renderOutput(dataTable, element);\n",
              "          const docLink = document.createElement('div');\n",
              "          docLink.innerHTML = docLinkHtml;\n",
              "          element.appendChild(docLink);\n",
              "        }\n",
              "      </script>\n",
              "    </div>\n",
              "  </div>\n",
              "  "
            ]
          },
          "metadata": {},
          "execution_count": 14
        }
      ],
      "metadata": {
        "datalore": {
          "node_id": "8GwYQWDH0skTFxf9FJX831",
          "type": "CODE",
          "hide_input_from_viewers": true,
          "hide_output_from_viewers": true
        },
        "id": "nCkaocgVaG7z",
        "colab": {
          "base_uri": "https://localhost:8080/",
          "height": 206
        },
        "outputId": "b3c51ec8-2553-4023-cfdc-9457cc555233"
      }
    },
    {
      "cell_type": "markdown",
      "source": [
        "> Crea una partición de los datos dejando el 80% para entrenamiento y el 20% restante para test usando la función `train_test_split` de sklearn. Comprueba que la distribución de los ejemplos en las clases es la misma en entrenamiento y test. "
      ],
      "metadata": {
        "datalore": {
          "node_id": "zBcG7iOSvHXjKh2Jjiq1Cb",
          "type": "MD",
          "hide_input_from_viewers": true,
          "hide_output_from_viewers": true
        },
        "id": "O_Oy0ArwaG7z"
      }
    },
    {
      "cell_type": "code",
      "source": [
        "from sklearn.model_selection import train_test_split\n",
        "train_reviews, test_reviews = train_test_split(df, test_size=0.2, train_size=0.8, random_state=RANDOM_STATE)"
      ],
      "execution_count": null,
      "outputs": [],
      "metadata": {
        "datalore": {
          "node_id": "jsIZiNcw2Dbek9MI1s9xkW",
          "type": "CODE",
          "hide_input_from_viewers": true,
          "hide_output_from_viewers": true
        },
        "id": "W8Gokcd6aG7z"
      }
    },
    {
      "cell_type": "code",
      "source": [
        "# Veamos que tienen las mismas distribuciones\n",
        "print(f\"Número de casos en train set: {len(train_reviews)}\")\n",
        "print(\"Casos positivos: \", len(train_reviews[train_reviews[\"sentiment\"] == \"positive\"]))\n",
        "print(\"Casos negativos: \", len(train_reviews[train_reviews[\"sentiment\"] == \"negative\"]))\n",
        "\n",
        "print(f\"Número de casos en test set: {len(test_reviews)}\")\n",
        "print(\"Casos positivos: \", len(test_reviews[test_reviews[\"sentiment\"] == \"positive\"]))\n",
        "print(\"Casos negativos: \", len(test_reviews[test_reviews[\"sentiment\"] == \"negative\"]))"
      ],
      "execution_count": null,
      "outputs": [
        {
          "output_type": "stream",
          "name": "stdout",
          "text": [
            "Número de casos en train set: 40000\n",
            "Casos positivos:  19988\n",
            "Casos negativos:  20012\n",
            "Número de casos en test set: 10000\n",
            "Casos positivos:  5012\n",
            "Casos negativos:  4988\n"
          ]
        }
      ],
      "metadata": {
        "datalore": {
          "node_id": "F0qG9R60y0vWtQaTxXOfgx",
          "type": "CODE",
          "hide_input_from_viewers": true,
          "hide_output_from_viewers": true
        },
        "colab": {
          "base_uri": "https://localhost:8080/"
        },
        "id": "aOuei5Q4aG7z",
        "outputId": "7b90a570-31bc-48b0-ecf6-8660f5c4dee0"
      }
    },
    {
      "cell_type": "markdown",
      "source": [
        "Se puede observar que la distribución de casos positivos y negativos es más o menos igual tanto en train set como en test set.\n",
        "\n",
        "**De aquí adelante vamos a trabajar con el corpus normalizado.**"
      ],
      "metadata": {
        "datalore": {
          "node_id": "4kKTzRMGiWSKka3Fu7gIpu",
          "type": "MD",
          "hide_input_from_viewers": true,
          "hide_output_from_viewers": true
        },
        "id": "7ia2Si2uaG70"
      }
    },
    {
      "cell_type": "markdown",
      "source": [
        "## 2) Estudio del efecto de distintas representaciones y distintos algoritmos para resolver la tarea\n",
        "\n",
        "> Construye distintas representaciones vectoriales basadas en lo contado en las clases de teoría (bolsas de palabras con 2 configuraciones distintas significativas) y utilízalas con 2 de los algoritmos estudiados (árboles de decisión y naive bayes)"
      ],
      "metadata": {
        "datalore": {
          "node_id": "ahXcpKVO8QC50IivfoRDMt",
          "type": "MD",
          "hide_input_from_viewers": false,
          "hide_output_from_viewers": false,
          "report_properties": {
            "rowId": "rdg510JOHZHufnfSZV2pc9"
          }
        },
        "id": "LBiiAqdOaG70"
      }
    },
    {
      "cell_type": "code",
      "source": [
        "import numpy as np\n",
        "from sklearn.tree import DecisionTreeClassifier\n",
        "from sklearn.naive_bayes import MultinomialNB"
      ],
      "metadata": {
        "id": "sno7NBcc2Ovv"
      },
      "execution_count": null,
      "outputs": []
    },
    {
      "cell_type": "markdown",
      "source": [
        "### Vector de frecuencias"
      ],
      "metadata": {
        "datalore": {
          "node_id": "c9AfrMSFecVJGlFjkRO6Kz",
          "type": "MD",
          "hide_input_from_viewers": true,
          "hide_output_from_viewers": true
        },
        "id": "BbppXkFeaG70"
      }
    },
    {
      "cell_type": "code",
      "source": [
        "from sklearn.feature_extraction.text import CountVectorizer\n",
        "from types import SimpleNamespace\n",
        "cv = SimpleNamespace()\n",
        "\n",
        "cv.vectorizer = CountVectorizer(stop_words='english')\n",
        "cv.train_preprocessed = cv.vectorizer.fit_transform(train_reviews.reviews)\n",
        "cv.test_preprocessed = cv.vectorizer.transform(test_reviews.reviews)\n",
        "cv.train_preprocessed.shape, cv.test_preprocessed.shape"
      ],
      "execution_count": null,
      "outputs": [
        {
          "output_type": "execute_result",
          "data": {
            "text/plain": [
              "((40000, 154793), (10000, 154793))"
            ]
          },
          "metadata": {},
          "execution_count": 18
        }
      ],
      "metadata": {
        "datalore": {
          "node_id": "ZnvK6nK0NM1WFeTiS6je8j",
          "type": "CODE",
          "hide_input_from_viewers": true,
          "hide_output_from_viewers": true
        },
        "colab": {
          "base_uri": "https://localhost:8080/"
        },
        "id": "bJs_2cpyaG70",
        "outputId": "86740e4c-c9b7-4895-ac2a-d9061beead4d"
      }
    },
    {
      "cell_type": "code",
      "source": [
        "# get all unique words in the corpus\n",
        "vocab = cv.vectorizer.get_feature_names_out()\n",
        "# show document feature vectors\n",
        "pd.DataFrame.sparse.from_spmatrix(cv.train_preprocessed, columns=vocab)"
      ],
      "execution_count": null,
      "outputs": [
        {
          "output_type": "execute_result",
          "data": {
            "text/plain": [
              "       00  02  03  10  100  11  12  13  14  14th  ...  zzvorkov  zzzz  zzzzip  \\\n",
              "0       0   0   0   0    0   0   0   0   0     0  ...         0     0       0   \n",
              "1       0   0   0   0    0   0   0   0   0     0  ...         0     0       0   \n",
              "2       0   0   0   0    0   0   0   0   0     0  ...         0     0       0   \n",
              "3       0   0   0   0    0   0   0   0   0     0  ...         0     0       0   \n",
              "4       0   0   0   0    0   0   0   0   0     0  ...         0     0       0   \n",
              "...    ..  ..  ..  ..  ...  ..  ..  ..  ..   ...  ...       ...   ...     ...   \n",
              "39995   0   0   0   0    0   0   0   0   0     0  ...         0     0       0   \n",
              "39996   0   0   0   0    0   0   0   0   0     0  ...         0     0       0   \n",
              "39997   0   0   0   0    0   0   0   0   0     0  ...         0     0       0   \n",
              "39998   0   0   0   0    0   0   0   0   0     0  ...         0     0       0   \n",
              "39999   0   0   0   0    0   0   0   0   0     0  ...         0     0       0   \n",
              "\n",
              "       zzzzzs  zzzzzzzz  zzzzzzzzz  zzzzzzzzzzzz  \\\n",
              "0           0         0          0             0   \n",
              "1           0         0          0             0   \n",
              "2           0         0          0             0   \n",
              "3           0         0          0             0   \n",
              "4           0         0          0             0   \n",
              "...       ...       ...        ...           ...   \n",
              "39995       0         0          0             0   \n",
              "39996       0         0          0             0   \n",
              "39997       0         0          0             0   \n",
              "39998       0         0          0             0   \n",
              "39999       0         0          0             0   \n",
              "\n",
              "       zzzzzzzzzzzzzzzzzzzzzzzzzzzzzzz  \\\n",
              "0                                    0   \n",
              "1                                    0   \n",
              "2                                    0   \n",
              "3                                    0   \n",
              "4                                    0   \n",
              "...                                ...   \n",
              "39995                                0   \n",
              "39996                                0   \n",
              "39997                                0   \n",
              "39998                                0   \n",
              "39999                                0   \n",
              "\n",
              "       zzzzzzzzzzzzzzzzzzzzzzzzzzzzzzzzzzzzzzzzz  \\\n",
              "0                                              0   \n",
              "1                                              0   \n",
              "2                                              0   \n",
              "3                                              0   \n",
              "4                                              0   \n",
              "...                                          ...   \n",
              "39995                                          0   \n",
              "39996                                          0   \n",
              "39997                                          0   \n",
              "39998                                          0   \n",
              "39999                                          0   \n",
              "\n",
              "       zzzzzzzzzzzzzzzzzzzzzzzzzzzzzzzzzzzzzzzzzzzz  \n",
              "0                                                 0  \n",
              "1                                                 0  \n",
              "2                                                 0  \n",
              "3                                                 0  \n",
              "4                                                 0  \n",
              "...                                             ...  \n",
              "39995                                             0  \n",
              "39996                                             0  \n",
              "39997                                             0  \n",
              "39998                                             0  \n",
              "39999                                             0  \n",
              "\n",
              "[40000 rows x 154793 columns]"
            ],
            "text/html": [
              "\n",
              "  <div id=\"df-120cb8a7-4771-4a9d-b881-8ba5a2902006\">\n",
              "    <div class=\"colab-df-container\">\n",
              "      <div>\n",
              "<style scoped>\n",
              "    .dataframe tbody tr th:only-of-type {\n",
              "        vertical-align: middle;\n",
              "    }\n",
              "\n",
              "    .dataframe tbody tr th {\n",
              "        vertical-align: top;\n",
              "    }\n",
              "\n",
              "    .dataframe thead th {\n",
              "        text-align: right;\n",
              "    }\n",
              "</style>\n",
              "<table border=\"1\" class=\"dataframe\">\n",
              "  <thead>\n",
              "    <tr style=\"text-align: right;\">\n",
              "      <th></th>\n",
              "      <th>00</th>\n",
              "      <th>02</th>\n",
              "      <th>03</th>\n",
              "      <th>10</th>\n",
              "      <th>100</th>\n",
              "      <th>11</th>\n",
              "      <th>12</th>\n",
              "      <th>13</th>\n",
              "      <th>14</th>\n",
              "      <th>14th</th>\n",
              "      <th>...</th>\n",
              "      <th>zzvorkov</th>\n",
              "      <th>zzzz</th>\n",
              "      <th>zzzzip</th>\n",
              "      <th>zzzzzs</th>\n",
              "      <th>zzzzzzzz</th>\n",
              "      <th>zzzzzzzzz</th>\n",
              "      <th>zzzzzzzzzzzz</th>\n",
              "      <th>zzzzzzzzzzzzzzzzzzzzzzzzzzzzzzz</th>\n",
              "      <th>zzzzzzzzzzzzzzzzzzzzzzzzzzzzzzzzzzzzzzzzz</th>\n",
              "      <th>zzzzzzzzzzzzzzzzzzzzzzzzzzzzzzzzzzzzzzzzzzzz</th>\n",
              "    </tr>\n",
              "  </thead>\n",
              "  <tbody>\n",
              "    <tr>\n",
              "      <th>0</th>\n",
              "      <td>0</td>\n",
              "      <td>0</td>\n",
              "      <td>0</td>\n",
              "      <td>0</td>\n",
              "      <td>0</td>\n",
              "      <td>0</td>\n",
              "      <td>0</td>\n",
              "      <td>0</td>\n",
              "      <td>0</td>\n",
              "      <td>0</td>\n",
              "      <td>...</td>\n",
              "      <td>0</td>\n",
              "      <td>0</td>\n",
              "      <td>0</td>\n",
              "      <td>0</td>\n",
              "      <td>0</td>\n",
              "      <td>0</td>\n",
              "      <td>0</td>\n",
              "      <td>0</td>\n",
              "      <td>0</td>\n",
              "      <td>0</td>\n",
              "    </tr>\n",
              "    <tr>\n",
              "      <th>1</th>\n",
              "      <td>0</td>\n",
              "      <td>0</td>\n",
              "      <td>0</td>\n",
              "      <td>0</td>\n",
              "      <td>0</td>\n",
              "      <td>0</td>\n",
              "      <td>0</td>\n",
              "      <td>0</td>\n",
              "      <td>0</td>\n",
              "      <td>0</td>\n",
              "      <td>...</td>\n",
              "      <td>0</td>\n",
              "      <td>0</td>\n",
              "      <td>0</td>\n",
              "      <td>0</td>\n",
              "      <td>0</td>\n",
              "      <td>0</td>\n",
              "      <td>0</td>\n",
              "      <td>0</td>\n",
              "      <td>0</td>\n",
              "      <td>0</td>\n",
              "    </tr>\n",
              "    <tr>\n",
              "      <th>2</th>\n",
              "      <td>0</td>\n",
              "      <td>0</td>\n",
              "      <td>0</td>\n",
              "      <td>0</td>\n",
              "      <td>0</td>\n",
              "      <td>0</td>\n",
              "      <td>0</td>\n",
              "      <td>0</td>\n",
              "      <td>0</td>\n",
              "      <td>0</td>\n",
              "      <td>...</td>\n",
              "      <td>0</td>\n",
              "      <td>0</td>\n",
              "      <td>0</td>\n",
              "      <td>0</td>\n",
              "      <td>0</td>\n",
              "      <td>0</td>\n",
              "      <td>0</td>\n",
              "      <td>0</td>\n",
              "      <td>0</td>\n",
              "      <td>0</td>\n",
              "    </tr>\n",
              "    <tr>\n",
              "      <th>3</th>\n",
              "      <td>0</td>\n",
              "      <td>0</td>\n",
              "      <td>0</td>\n",
              "      <td>0</td>\n",
              "      <td>0</td>\n",
              "      <td>0</td>\n",
              "      <td>0</td>\n",
              "      <td>0</td>\n",
              "      <td>0</td>\n",
              "      <td>0</td>\n",
              "      <td>...</td>\n",
              "      <td>0</td>\n",
              "      <td>0</td>\n",
              "      <td>0</td>\n",
              "      <td>0</td>\n",
              "      <td>0</td>\n",
              "      <td>0</td>\n",
              "      <td>0</td>\n",
              "      <td>0</td>\n",
              "      <td>0</td>\n",
              "      <td>0</td>\n",
              "    </tr>\n",
              "    <tr>\n",
              "      <th>4</th>\n",
              "      <td>0</td>\n",
              "      <td>0</td>\n",
              "      <td>0</td>\n",
              "      <td>0</td>\n",
              "      <td>0</td>\n",
              "      <td>0</td>\n",
              "      <td>0</td>\n",
              "      <td>0</td>\n",
              "      <td>0</td>\n",
              "      <td>0</td>\n",
              "      <td>...</td>\n",
              "      <td>0</td>\n",
              "      <td>0</td>\n",
              "      <td>0</td>\n",
              "      <td>0</td>\n",
              "      <td>0</td>\n",
              "      <td>0</td>\n",
              "      <td>0</td>\n",
              "      <td>0</td>\n",
              "      <td>0</td>\n",
              "      <td>0</td>\n",
              "    </tr>\n",
              "    <tr>\n",
              "      <th>...</th>\n",
              "      <td>...</td>\n",
              "      <td>...</td>\n",
              "      <td>...</td>\n",
              "      <td>...</td>\n",
              "      <td>...</td>\n",
              "      <td>...</td>\n",
              "      <td>...</td>\n",
              "      <td>...</td>\n",
              "      <td>...</td>\n",
              "      <td>...</td>\n",
              "      <td>...</td>\n",
              "      <td>...</td>\n",
              "      <td>...</td>\n",
              "      <td>...</td>\n",
              "      <td>...</td>\n",
              "      <td>...</td>\n",
              "      <td>...</td>\n",
              "      <td>...</td>\n",
              "      <td>...</td>\n",
              "      <td>...</td>\n",
              "      <td>...</td>\n",
              "    </tr>\n",
              "    <tr>\n",
              "      <th>39995</th>\n",
              "      <td>0</td>\n",
              "      <td>0</td>\n",
              "      <td>0</td>\n",
              "      <td>0</td>\n",
              "      <td>0</td>\n",
              "      <td>0</td>\n",
              "      <td>0</td>\n",
              "      <td>0</td>\n",
              "      <td>0</td>\n",
              "      <td>0</td>\n",
              "      <td>...</td>\n",
              "      <td>0</td>\n",
              "      <td>0</td>\n",
              "      <td>0</td>\n",
              "      <td>0</td>\n",
              "      <td>0</td>\n",
              "      <td>0</td>\n",
              "      <td>0</td>\n",
              "      <td>0</td>\n",
              "      <td>0</td>\n",
              "      <td>0</td>\n",
              "    </tr>\n",
              "    <tr>\n",
              "      <th>39996</th>\n",
              "      <td>0</td>\n",
              "      <td>0</td>\n",
              "      <td>0</td>\n",
              "      <td>0</td>\n",
              "      <td>0</td>\n",
              "      <td>0</td>\n",
              "      <td>0</td>\n",
              "      <td>0</td>\n",
              "      <td>0</td>\n",
              "      <td>0</td>\n",
              "      <td>...</td>\n",
              "      <td>0</td>\n",
              "      <td>0</td>\n",
              "      <td>0</td>\n",
              "      <td>0</td>\n",
              "      <td>0</td>\n",
              "      <td>0</td>\n",
              "      <td>0</td>\n",
              "      <td>0</td>\n",
              "      <td>0</td>\n",
              "      <td>0</td>\n",
              "    </tr>\n",
              "    <tr>\n",
              "      <th>39997</th>\n",
              "      <td>0</td>\n",
              "      <td>0</td>\n",
              "      <td>0</td>\n",
              "      <td>0</td>\n",
              "      <td>0</td>\n",
              "      <td>0</td>\n",
              "      <td>0</td>\n",
              "      <td>0</td>\n",
              "      <td>0</td>\n",
              "      <td>0</td>\n",
              "      <td>...</td>\n",
              "      <td>0</td>\n",
              "      <td>0</td>\n",
              "      <td>0</td>\n",
              "      <td>0</td>\n",
              "      <td>0</td>\n",
              "      <td>0</td>\n",
              "      <td>0</td>\n",
              "      <td>0</td>\n",
              "      <td>0</td>\n",
              "      <td>0</td>\n",
              "    </tr>\n",
              "    <tr>\n",
              "      <th>39998</th>\n",
              "      <td>0</td>\n",
              "      <td>0</td>\n",
              "      <td>0</td>\n",
              "      <td>0</td>\n",
              "      <td>0</td>\n",
              "      <td>0</td>\n",
              "      <td>0</td>\n",
              "      <td>0</td>\n",
              "      <td>0</td>\n",
              "      <td>0</td>\n",
              "      <td>...</td>\n",
              "      <td>0</td>\n",
              "      <td>0</td>\n",
              "      <td>0</td>\n",
              "      <td>0</td>\n",
              "      <td>0</td>\n",
              "      <td>0</td>\n",
              "      <td>0</td>\n",
              "      <td>0</td>\n",
              "      <td>0</td>\n",
              "      <td>0</td>\n",
              "    </tr>\n",
              "    <tr>\n",
              "      <th>39999</th>\n",
              "      <td>0</td>\n",
              "      <td>0</td>\n",
              "      <td>0</td>\n",
              "      <td>0</td>\n",
              "      <td>0</td>\n",
              "      <td>0</td>\n",
              "      <td>0</td>\n",
              "      <td>0</td>\n",
              "      <td>0</td>\n",
              "      <td>0</td>\n",
              "      <td>...</td>\n",
              "      <td>0</td>\n",
              "      <td>0</td>\n",
              "      <td>0</td>\n",
              "      <td>0</td>\n",
              "      <td>0</td>\n",
              "      <td>0</td>\n",
              "      <td>0</td>\n",
              "      <td>0</td>\n",
              "      <td>0</td>\n",
              "      <td>0</td>\n",
              "    </tr>\n",
              "  </tbody>\n",
              "</table>\n",
              "<p>40000 rows × 154793 columns</p>\n",
              "</div>\n",
              "      <button class=\"colab-df-convert\" onclick=\"convertToInteractive('df-120cb8a7-4771-4a9d-b881-8ba5a2902006')\"\n",
              "              title=\"Convert this dataframe to an interactive table.\"\n",
              "              style=\"display:none;\">\n",
              "        \n",
              "  <svg xmlns=\"http://www.w3.org/2000/svg\" height=\"24px\"viewBox=\"0 0 24 24\"\n",
              "       width=\"24px\">\n",
              "    <path d=\"M0 0h24v24H0V0z\" fill=\"none\"/>\n",
              "    <path d=\"M18.56 5.44l.94 2.06.94-2.06 2.06-.94-2.06-.94-.94-2.06-.94 2.06-2.06.94zm-11 1L8.5 8.5l.94-2.06 2.06-.94-2.06-.94L8.5 2.5l-.94 2.06-2.06.94zm10 10l.94 2.06.94-2.06 2.06-.94-2.06-.94-.94-2.06-.94 2.06-2.06.94z\"/><path d=\"M17.41 7.96l-1.37-1.37c-.4-.4-.92-.59-1.43-.59-.52 0-1.04.2-1.43.59L10.3 9.45l-7.72 7.72c-.78.78-.78 2.05 0 2.83L4 21.41c.39.39.9.59 1.41.59.51 0 1.02-.2 1.41-.59l7.78-7.78 2.81-2.81c.8-.78.8-2.07 0-2.86zM5.41 20L4 18.59l7.72-7.72 1.47 1.35L5.41 20z\"/>\n",
              "  </svg>\n",
              "      </button>\n",
              "      \n",
              "  <style>\n",
              "    .colab-df-container {\n",
              "      display:flex;\n",
              "      flex-wrap:wrap;\n",
              "      gap: 12px;\n",
              "    }\n",
              "\n",
              "    .colab-df-convert {\n",
              "      background-color: #E8F0FE;\n",
              "      border: none;\n",
              "      border-radius: 50%;\n",
              "      cursor: pointer;\n",
              "      display: none;\n",
              "      fill: #1967D2;\n",
              "      height: 32px;\n",
              "      padding: 0 0 0 0;\n",
              "      width: 32px;\n",
              "    }\n",
              "\n",
              "    .colab-df-convert:hover {\n",
              "      background-color: #E2EBFA;\n",
              "      box-shadow: 0px 1px 2px rgba(60, 64, 67, 0.3), 0px 1px 3px 1px rgba(60, 64, 67, 0.15);\n",
              "      fill: #174EA6;\n",
              "    }\n",
              "\n",
              "    [theme=dark] .colab-df-convert {\n",
              "      background-color: #3B4455;\n",
              "      fill: #D2E3FC;\n",
              "    }\n",
              "\n",
              "    [theme=dark] .colab-df-convert:hover {\n",
              "      background-color: #434B5C;\n",
              "      box-shadow: 0px 1px 3px 1px rgba(0, 0, 0, 0.15);\n",
              "      filter: drop-shadow(0px 1px 2px rgba(0, 0, 0, 0.3));\n",
              "      fill: #FFFFFF;\n",
              "    }\n",
              "  </style>\n",
              "\n",
              "      <script>\n",
              "        const buttonEl =\n",
              "          document.querySelector('#df-120cb8a7-4771-4a9d-b881-8ba5a2902006 button.colab-df-convert');\n",
              "        buttonEl.style.display =\n",
              "          google.colab.kernel.accessAllowed ? 'block' : 'none';\n",
              "\n",
              "        async function convertToInteractive(key) {\n",
              "          const element = document.querySelector('#df-120cb8a7-4771-4a9d-b881-8ba5a2902006');\n",
              "          const dataTable =\n",
              "            await google.colab.kernel.invokeFunction('convertToInteractive',\n",
              "                                                     [key], {});\n",
              "          if (!dataTable) return;\n",
              "\n",
              "          const docLinkHtml = 'Like what you see? Visit the ' +\n",
              "            '<a target=\"_blank\" href=https://colab.research.google.com/notebooks/data_table.ipynb>data table notebook</a>'\n",
              "            + ' to learn more about interactive tables.';\n",
              "          element.innerHTML = '';\n",
              "          dataTable['output_type'] = 'display_data';\n",
              "          await google.colab.output.renderOutput(dataTable, element);\n",
              "          const docLink = document.createElement('div');\n",
              "          docLink.innerHTML = docLinkHtml;\n",
              "          element.appendChild(docLink);\n",
              "        }\n",
              "      </script>\n",
              "    </div>\n",
              "  </div>\n",
              "  "
            ]
          },
          "metadata": {},
          "execution_count": 19
        }
      ],
      "metadata": {
        "datalore": {
          "node_id": "ySieCzcZAh6BvSkFyAsghm",
          "type": "CODE",
          "hide_input_from_viewers": true,
          "hide_output_from_viewers": true
        },
        "colab": {
          "base_uri": "https://localhost:8080/",
          "height": 488
        },
        "id": "TA4nhv__aG70",
        "outputId": "61908a68-21dd-499f-ed9a-af2f0256d514"
      }
    },
    {
      "cell_type": "markdown",
      "source": [
        "Con esta información, intentamos resolver el problema usando 2 clasificadores: **árbol de decisión** y **clasificador de Naïve Bayes**. \n",
        "\n",
        "Podriamos usar también clasificador de K vecinos más cercanos con distancia euclídea. Sin embargo, no es una técnica adecuada para este tipo de problema al tener una gran cantidad de dimensiones (el número de palabras), y sufre de la maldición de la dimensionalidad. Sobre todo aquí donde la matriz es muy dispersa. Por lo tanto, sólo vamos a usar los dos clasificadores mencionados previamente."
      ],
      "metadata": {
        "id": "uhwWUU84UsmJ"
      }
    },
    {
      "cell_type": "markdown",
      "source": [
        "#### Árbol de decisión"
      ],
      "metadata": {
        "datalore": {
          "node_id": "Pl2WOP0NFr6yUGC2ARyAHS",
          "type": "MD",
          "hide_input_from_viewers": true,
          "hide_output_from_viewers": true
        },
        "id": "LdADxUfVaG71"
      }
    },
    {
      "cell_type": "code",
      "source": [
        "# Creamos el clasificador con los valores por defecto\n",
        "cv.tree_classifier = DecisionTreeClassifier().fit(cv.train_preprocessed, train_reviews.sentiment)"
      ],
      "execution_count": null,
      "outputs": [],
      "metadata": {
        "datalore": {
          "node_id": "eOBalDgj6GIwtBGWPDvYjm",
          "type": "CODE",
          "hide_input_from_viewers": true,
          "hide_output_from_viewers": true
        },
        "id": "rYEYEA-YaG70"
      }
    },
    {
      "cell_type": "code",
      "source": [
        "cv.tree_train_predictions = cv.tree_classifier.predict(cv.train_preprocessed)\n",
        "print(\"Árbol, porcentaje de aciertos en entrenamiento:\", np.mean(cv.tree_train_predictions == train_reviews.sentiment))"
      ],
      "metadata": {
        "colab": {
          "base_uri": "https://localhost:8080/"
        },
        "id": "3zzZzHxxdABn",
        "outputId": "d4510fa6-88ce-4369-cac1-2f36dca98f9f"
      },
      "execution_count": null,
      "outputs": [
        {
          "output_type": "stream",
          "name": "stdout",
          "text": [
            "Árbol, porcentaje de aciertos en entrenamiento: 1.0\n"
          ]
        }
      ]
    },
    {
      "cell_type": "code",
      "source": [
        "cv.tree_test_predictions = cv.tree_classifier.predict(cv.test_preprocessed)\n",
        "print(\"Árbol, porcentaje de aciertos en test:\", np.mean(cv.tree_test_predictions == test_reviews.sentiment))"
      ],
      "metadata": {
        "colab": {
          "base_uri": "https://localhost:8080/"
        },
        "id": "KJl28P1GdDK3",
        "outputId": "e3c10b96-9da4-49d1-908a-60ddc7e15dad"
      },
      "execution_count": null,
      "outputs": [
        {
          "output_type": "stream",
          "name": "stdout",
          "text": [
            "Árbol, porcentaje de aciertos en test: 0.7345\n"
          ]
        }
      ]
    },
    {
      "cell_type": "markdown",
      "source": [
        "El proceso del entrenamiento ha sido un largo (90s, ejecutado en la máquina de Google Colab). Clasifica ahora perfectamente los textos del conjunto de entrenamiento (1.0 de tasa de aciertos), y casi 73% de acierto en el conjunto de entrenamiento.\n",
        "\n",
        "Veamos ahora cómo va el clasificador Naive Bayes:"
      ],
      "metadata": {
        "id": "R_qrRbQ9WSuU"
      }
    },
    {
      "cell_type": "markdown",
      "source": [
        "#### Naive Bayes"
      ],
      "metadata": {
        "datalore": {
          "node_id": "Uv5O1Bg9V4FoxqF14MmI1V",
          "type": "MD",
          "hide_input_from_viewers": true,
          "hide_output_from_viewers": true
        },
        "id": "Pb63XEWGaG71"
      }
    },
    {
      "cell_type": "markdown",
      "source": [
        "Vamos a usar el clasificador **Naive Bayes Multinomial**. Porque es el que se utiliza cuando las variables son enteras (el número ed apariciones ed cada palabras en el review)."
      ],
      "metadata": {
        "id": "GxNCZ1NfXnoi"
      }
    },
    {
      "cell_type": "code",
      "source": [
        "cv.mnb_classifier = MultinomialNB()\n",
        "\n",
        "cv.mnb_classifier.fit(cv.train_preprocessed, train_reviews.sentiment)\n",
        "\n",
        "cv.mnb_train_predictions = cv.mnb_classifier.predict(cv.train_preprocessed)\n",
        "cv.mnb_test_predictions = cv.mnb_classifier.predict(cv.test_preprocessed)\n",
        "\n",
        "print(\"Multinomial Naive Bayes, porcentaje de aciertos en entrenamiento:\", np.mean(cv.mnb_train_predictions == train_reviews.sentiment))\n",
        "print(\"Multinomial Naive Bayes, porcentaje de aciertos en test:\", np.mean(cv.mnb_test_predictions == test_reviews.sentiment))"
      ],
      "metadata": {
        "colab": {
          "base_uri": "https://localhost:8080/"
        },
        "id": "hRvnvLvJe-ce",
        "outputId": "57113c70-e184-4389-e53e-c437ef7d1120"
      },
      "execution_count": null,
      "outputs": [
        {
          "output_type": "stream",
          "name": "stdout",
          "text": [
            "Multinomial Naive Bayes, porcentaje de aciertos en entrenamiento: 0.916475\n",
            "Multinomial Naive Bayes, porcentaje de aciertos en test: 0.8509\n"
          ]
        }
      ]
    },
    {
      "cell_type": "markdown",
      "source": [
        "Se puede observar que el proceso de entrenamiento ha sido mucho más rápido (menos de 1 segundo) con Naïve Bayes en comparación con el árbol de decisión anterior. La rápidez de Naive Bayes (una de sus principales características), se debe a que **asume que todas las variables son independientes entre sí**.\n",
        "\n",
        "**La hipótesis anterior no es cierta en muchos casos**. En nuestro dataset, en un texto de sentimiento positivo es más probable que aparezca palabras con un significado positivo como \"wonderful\" o \"great\".\n",
        "\n",
        "A pesar de eso, **el resultado que se ha obtenido ha sido mejor** que el de árbol de decisión. Por lo tanto, pensamos que a pesar de la asumpción errónea, este clasificador sigue siendo mejor para nuestro dataset."
      ],
      "metadata": {
        "id": "i-f2n9O3X5ij"
      }
    },
    {
      "cell_type": "markdown",
      "source": [
        "### TF-IDF"
      ],
      "metadata": {
        "datalore": {
          "node_id": "88C1ev95dfOP447jWKmak0",
          "type": "MD",
          "hide_input_from_viewers": true,
          "hide_output_from_viewers": true
        },
        "id": "7IQrHskmaG71"
      }
    },
    {
      "cell_type": "markdown",
      "source": [
        "Con los datos normalizados, ahora en `df`, usamos el `TfidVectorizer` para transformar cada review en un vector disperso, donde para una reseña `r` y una palabra `w` le asignamos su coeficiente TF-IDF, el cual se puede calcular de la siguiente forma:\n",
        "$$\n",
        "w_{r,i} = f_{r,i} \\times \\log\\left(\\frac{N}{f_i + 1}\\right)\n",
        "$$\n",
        "donde $f_{r,i}$ representa la frecuencia de la palabra $i$ en la reseña $r$, $f_i$ representa la frecuencia de la palabra $i$ en todos los documentos en general, $N$ es el número de documentos.\n",
        "\n",
        "`sklearn` no utiliza la misma fórmula, pero la propiedad principal de los coeficientes TF-IDF se mantiene tanto en la vista en teoría como la usada por `sklearn`: **da más importancia a términos con una alta frecuencia mayor de lo usual en el documento actual**, es decir, la frecuencia del término en el documento relacionado con la frecuencia del término en el corpus."
      ],
      "metadata": {
        "datalore": {
          "node_id": "F0Pw1rkv5sh383KOzKCE0U",
          "type": "MD",
          "hide_input_from_viewers": true,
          "hide_output_from_viewers": true
        },
        "id": "TWokWq9WaG71"
      }
    },
    {
      "cell_type": "code",
      "source": [
        "from sklearn.feature_extraction.text import TfidfVectorizer\n",
        "from types import SimpleNamespace\n",
        "tfidf = SimpleNamespace()\n",
        "tfidf.vectorizer = TfidfVectorizer().fit(train_reviews.reviews)"
      ],
      "execution_count": null,
      "outputs": [],
      "metadata": {
        "datalore": {
          "node_id": "YO8h2j69T8bMavxGRCgjYq",
          "type": "CODE",
          "hide_input_from_viewers": true,
          "hide_output_from_viewers": true
        },
        "id": "8vTTv4XFaG71"
      }
    },
    {
      "cell_type": "code",
      "source": [
        "tfidf.train  = tfidf.vectorizer.transform(train_reviews.reviews)\n",
        "tfidf.test  = tfidf.vectorizer.transform(test_reviews.reviews)\n",
        "tfidf.feature_names = tfidf.vectorizer.get_feature_names_out()"
      ],
      "metadata": {
        "id": "SjGx6-r-3i6H"
      },
      "execution_count": null,
      "outputs": []
    },
    {
      "cell_type": "markdown",
      "source": [
        "#### Árbol de decisión\n"
      ],
      "metadata": {
        "datalore": {
          "node_id": "T4dhNAjqf6fGR8ckbQbRFL",
          "type": "MD",
          "hide_input_from_viewers": true,
          "hide_output_from_viewers": true
        },
        "id": "mQU4-4BYaG72"
      }
    },
    {
      "cell_type": "markdown",
      "source": [
        "Creamos un clasificador con un árbol de decisión, y lo entrenamos con los datos de entrenamiento previamente preparados."
      ],
      "metadata": {
        "id": "mKoO8Q162CON"
      }
    },
    {
      "cell_type": "code",
      "source": [
        "tfidf.tree = SimpleNamespace()\n",
        "tfidf.tree.classifier = DecisionTreeClassifier().fit(tfidf.train, train_reviews.sentiment)"
      ],
      "metadata": {
        "id": "rFDkba-716g4"
      },
      "execution_count": null,
      "outputs": []
    },
    {
      "cell_type": "code",
      "source": [
        "tfidf.tree.train_pred = tfidf.tree.classifier.predict(tfidf.train)\n",
        "print(\"Árbol, porcentaje de aciertos en train:\", np.mean(tfidf.tree.train_pred == train_reviews.sentiment))"
      ],
      "metadata": {
        "colab": {
          "base_uri": "https://localhost:8080/"
        },
        "id": "lhFMghbb4IYG",
        "outputId": "55397be2-3ad9-40d8-a9ac-329354f63b47"
      },
      "execution_count": null,
      "outputs": [
        {
          "output_type": "stream",
          "name": "stdout",
          "text": [
            "Árbol, porcentaje de aciertos en train: 1.0\n"
          ]
        }
      ]
    },
    {
      "cell_type": "code",
      "source": [
        "tfidf.tree.test_pred = tfidf.tree.classifier.predict(tfidf.test)\n",
        "print(\"Árbol, porcentaje de aciertos en test:\", np.mean(tfidf.tree.test_pred == test_reviews.sentiment))"
      ],
      "metadata": {
        "colab": {
          "base_uri": "https://localhost:8080/"
        },
        "id": "ncCEX3Wo4vYj",
        "outputId": "60ad35de-a6ff-4b89-8264-f285c798bc0b"
      },
      "execution_count": null,
      "outputs": [
        {
          "output_type": "stream",
          "name": "stdout",
          "text": [
            "Árbol, porcentaje de aciertos en test: 0.7143\n"
          ]
        }
      ]
    },
    {
      "cell_type": "markdown",
      "source": [
        "\n",
        "#### Naive Bayes"
      ],
      "metadata": {
        "id": "B48nddTR15Ej"
      }
    },
    {
      "cell_type": "code",
      "source": [
        "tfidf.nb = SimpleNamespace()\n",
        "tfidf.nb.classifier = MultinomialNB().fit(tfidf.train, train_reviews.sentiment)"
      ],
      "metadata": {
        "id": "PtQWenkp-CHn"
      },
      "execution_count": null,
      "outputs": []
    },
    {
      "cell_type": "code",
      "source": [
        "tfidf.nb.train_pred = tfidf.nb.classifier.predict(tfidf.train)\n",
        "print(\"Naive Bayes, porcentaje de aciertos en train:\", np.mean(tfidf.nb.train_pred == train_reviews.sentiment))"
      ],
      "metadata": {
        "colab": {
          "base_uri": "https://localhost:8080/"
        },
        "id": "6ar9nOk2-Mz1",
        "outputId": "b3ade8b5-4918-47bd-9bda-bcffba41a112"
      },
      "execution_count": null,
      "outputs": [
        {
          "output_type": "stream",
          "name": "stdout",
          "text": [
            "Naive Bayes, porcentaje de aciertos en train: 0.9157\n"
          ]
        }
      ]
    },
    {
      "cell_type": "code",
      "source": [
        "tfidf.nb.test_pred = tfidf.nb.classifier.predict(tfidf.test)\n",
        "print(\"Naive Bayes, porcentaje de aciertos en test:\", np.mean(tfidf.nb.test_pred == test_reviews.sentiment))"
      ],
      "metadata": {
        "colab": {
          "base_uri": "https://localhost:8080/"
        },
        "id": "mOyIED1_-NXq",
        "outputId": "87d4eb1e-8bbf-4f6f-d84a-249eebc2c937"
      },
      "execution_count": null,
      "outputs": [
        {
          "output_type": "stream",
          "name": "stdout",
          "text": [
            "Naive Bayes, porcentaje de aciertos en test: 0.8629\n"
          ]
        }
      ]
    },
    {
      "cell_type": "markdown",
      "source": [
        "------------"
      ],
      "metadata": {
        "id": "tnKS6iVpckTV"
      }
    },
    {
      "cell_type": "markdown",
      "source": [
        "\n",
        "> Para una única configuración, muestra algún mensaje tanto en su formato de texto original como en la versión vectorizada. ¿Qué palabras se han eliminado y por qué?\n",
        ">\n",
        "> **PREGUNTA** Que se eliminen o no palabras depende del paso de normalización, no del clasificador, no? "
      ],
      "metadata": {
        "datalore": {
          "node_id": "d7avYXOvFqjE3j3iSNqbcl",
          "type": "MD",
          "hide_input_from_viewers": true,
          "hide_output_from_viewers": true
        },
        "id": "4kxW8FIkaG72"
      }
    },
    {
      "cell_type": "markdown",
      "source": [
        "Primero escogemos una reseña que visualizar. En nuestro caso, hemos elegido la número `10`, pues personalmente me pareció una reseña graciosa"
      ],
      "metadata": {
        "id": "Tr0YEj1MAgc0"
      }
    },
    {
      "cell_type": "code",
      "source": [
        "review_10 = df_sin_normalizar.loc[10, 'review']\n",
        "print(\"Mensaje original:\")\n",
        "print('\\n'.join(df_sin_normalizar.loc[10, 'review'].split('<br />')))"
      ],
      "metadata": {
        "colab": {
          "base_uri": "https://localhost:8080/"
        },
        "id": "qSc9AhEE-kvn",
        "outputId": "4b410dbd-dfa0-42e4-b4ea-24af6ab2bcf0"
      },
      "execution_count": null,
      "outputs": [
        {
          "output_type": "stream",
          "name": "stdout",
          "text": [
            "Mensaje original:\n",
            "Phil the Alien is one of those quirky films where the humour is based around the oddness of everything rather than actual punchlines.\n",
            "\n",
            "At first it was very odd and pretty funny but as the movie progressed I didn't find the jokes or oddness funny anymore.\n",
            "\n",
            "Its a low budget film (thats never a problem in itself), there were some pretty interesting characters, but eventually I just lost interest.\n",
            "\n",
            "I imagine this film would appeal to a stoner who is currently partaking.\n",
            "\n",
            "For something similar but better try \"Brother from another planet\"\n"
          ]
        }
      ]
    },
    {
      "cell_type": "markdown",
      "source": [
        "La versión vectorizada del mensaje nos da menos información, pues la gran mayoría de palabras usadas en el corpus no se encuentran en esta reseña en específico:"
      ],
      "metadata": {
        "id": "EniP214ABOgM"
      }
    },
    {
      "cell_type": "code",
      "source": [
        "print(\"Mensaje vectorizado:\")\n",
        "review_vectorizada = tfidf.vectorizer.transform([df.loc[10,'reviews']]).toarray()\n",
        "review_vectorizada_df = pd.DataFrame(review_vectorizada, columns = tfidf.feature_names)\n",
        "review_vectorizada_df"
      ],
      "metadata": {
        "colab": {
          "base_uri": "https://localhost:8080/",
          "height": 191
        },
        "id": "VmCG3inZBMg8",
        "outputId": "d18505b0-7a71-46dd-c8f4-c99f8378aa2b"
      },
      "execution_count": null,
      "outputs": [
        {
          "output_type": "stream",
          "name": "stdout",
          "text": [
            "Mensaje vectorizado:\n"
          ]
        },
        {
          "output_type": "execute_result",
          "data": {
            "text/plain": [
              "    00   02   03   10  100   11   12   13   14  14th  ...  zzvorkov  zzzz  \\\n",
              "0  0.0  0.0  0.0  0.0  0.0  0.0  0.0  0.0  0.0   0.0  ...       0.0   0.0   \n",
              "\n",
              "   zzzzip  zzzzzs  zzzzzzzz  zzzzzzzzz  zzzzzzzzzzzz  \\\n",
              "0     0.0     0.0       0.0        0.0           0.0   \n",
              "\n",
              "   zzzzzzzzzzzzzzzzzzzzzzzzzzzzzzz  zzzzzzzzzzzzzzzzzzzzzzzzzzzzzzzzzzzzzzzzz  \\\n",
              "0                              0.0                                        0.0   \n",
              "\n",
              "   zzzzzzzzzzzzzzzzzzzzzzzzzzzzzzzzzzzzzzzzzzzz  \n",
              "0                                           0.0  \n",
              "\n",
              "[1 rows x 154989 columns]"
            ],
            "text/html": [
              "\n",
              "  <div id=\"df-d757e488-c5e0-4b80-a24a-b3a8770b2a77\">\n",
              "    <div class=\"colab-df-container\">\n",
              "      <div>\n",
              "<style scoped>\n",
              "    .dataframe tbody tr th:only-of-type {\n",
              "        vertical-align: middle;\n",
              "    }\n",
              "\n",
              "    .dataframe tbody tr th {\n",
              "        vertical-align: top;\n",
              "    }\n",
              "\n",
              "    .dataframe thead th {\n",
              "        text-align: right;\n",
              "    }\n",
              "</style>\n",
              "<table border=\"1\" class=\"dataframe\">\n",
              "  <thead>\n",
              "    <tr style=\"text-align: right;\">\n",
              "      <th></th>\n",
              "      <th>00</th>\n",
              "      <th>02</th>\n",
              "      <th>03</th>\n",
              "      <th>10</th>\n",
              "      <th>100</th>\n",
              "      <th>11</th>\n",
              "      <th>12</th>\n",
              "      <th>13</th>\n",
              "      <th>14</th>\n",
              "      <th>14th</th>\n",
              "      <th>...</th>\n",
              "      <th>zzvorkov</th>\n",
              "      <th>zzzz</th>\n",
              "      <th>zzzzip</th>\n",
              "      <th>zzzzzs</th>\n",
              "      <th>zzzzzzzz</th>\n",
              "      <th>zzzzzzzzz</th>\n",
              "      <th>zzzzzzzzzzzz</th>\n",
              "      <th>zzzzzzzzzzzzzzzzzzzzzzzzzzzzzzz</th>\n",
              "      <th>zzzzzzzzzzzzzzzzzzzzzzzzzzzzzzzzzzzzzzzzz</th>\n",
              "      <th>zzzzzzzzzzzzzzzzzzzzzzzzzzzzzzzzzzzzzzzzzzzz</th>\n",
              "    </tr>\n",
              "  </thead>\n",
              "  <tbody>\n",
              "    <tr>\n",
              "      <th>0</th>\n",
              "      <td>0.0</td>\n",
              "      <td>0.0</td>\n",
              "      <td>0.0</td>\n",
              "      <td>0.0</td>\n",
              "      <td>0.0</td>\n",
              "      <td>0.0</td>\n",
              "      <td>0.0</td>\n",
              "      <td>0.0</td>\n",
              "      <td>0.0</td>\n",
              "      <td>0.0</td>\n",
              "      <td>...</td>\n",
              "      <td>0.0</td>\n",
              "      <td>0.0</td>\n",
              "      <td>0.0</td>\n",
              "      <td>0.0</td>\n",
              "      <td>0.0</td>\n",
              "      <td>0.0</td>\n",
              "      <td>0.0</td>\n",
              "      <td>0.0</td>\n",
              "      <td>0.0</td>\n",
              "      <td>0.0</td>\n",
              "    </tr>\n",
              "  </tbody>\n",
              "</table>\n",
              "<p>1 rows × 154989 columns</p>\n",
              "</div>\n",
              "      <button class=\"colab-df-convert\" onclick=\"convertToInteractive('df-d757e488-c5e0-4b80-a24a-b3a8770b2a77')\"\n",
              "              title=\"Convert this dataframe to an interactive table.\"\n",
              "              style=\"display:none;\">\n",
              "        \n",
              "  <svg xmlns=\"http://www.w3.org/2000/svg\" height=\"24px\"viewBox=\"0 0 24 24\"\n",
              "       width=\"24px\">\n",
              "    <path d=\"M0 0h24v24H0V0z\" fill=\"none\"/>\n",
              "    <path d=\"M18.56 5.44l.94 2.06.94-2.06 2.06-.94-2.06-.94-.94-2.06-.94 2.06-2.06.94zm-11 1L8.5 8.5l.94-2.06 2.06-.94-2.06-.94L8.5 2.5l-.94 2.06-2.06.94zm10 10l.94 2.06.94-2.06 2.06-.94-2.06-.94-.94-2.06-.94 2.06-2.06.94z\"/><path d=\"M17.41 7.96l-1.37-1.37c-.4-.4-.92-.59-1.43-.59-.52 0-1.04.2-1.43.59L10.3 9.45l-7.72 7.72c-.78.78-.78 2.05 0 2.83L4 21.41c.39.39.9.59 1.41.59.51 0 1.02-.2 1.41-.59l7.78-7.78 2.81-2.81c.8-.78.8-2.07 0-2.86zM5.41 20L4 18.59l7.72-7.72 1.47 1.35L5.41 20z\"/>\n",
              "  </svg>\n",
              "      </button>\n",
              "      \n",
              "  <style>\n",
              "    .colab-df-container {\n",
              "      display:flex;\n",
              "      flex-wrap:wrap;\n",
              "      gap: 12px;\n",
              "    }\n",
              "\n",
              "    .colab-df-convert {\n",
              "      background-color: #E8F0FE;\n",
              "      border: none;\n",
              "      border-radius: 50%;\n",
              "      cursor: pointer;\n",
              "      display: none;\n",
              "      fill: #1967D2;\n",
              "      height: 32px;\n",
              "      padding: 0 0 0 0;\n",
              "      width: 32px;\n",
              "    }\n",
              "\n",
              "    .colab-df-convert:hover {\n",
              "      background-color: #E2EBFA;\n",
              "      box-shadow: 0px 1px 2px rgba(60, 64, 67, 0.3), 0px 1px 3px 1px rgba(60, 64, 67, 0.15);\n",
              "      fill: #174EA6;\n",
              "    }\n",
              "\n",
              "    [theme=dark] .colab-df-convert {\n",
              "      background-color: #3B4455;\n",
              "      fill: #D2E3FC;\n",
              "    }\n",
              "\n",
              "    [theme=dark] .colab-df-convert:hover {\n",
              "      background-color: #434B5C;\n",
              "      box-shadow: 0px 1px 3px 1px rgba(0, 0, 0, 0.15);\n",
              "      filter: drop-shadow(0px 1px 2px rgba(0, 0, 0, 0.3));\n",
              "      fill: #FFFFFF;\n",
              "    }\n",
              "  </style>\n",
              "\n",
              "      <script>\n",
              "        const buttonEl =\n",
              "          document.querySelector('#df-d757e488-c5e0-4b80-a24a-b3a8770b2a77 button.colab-df-convert');\n",
              "        buttonEl.style.display =\n",
              "          google.colab.kernel.accessAllowed ? 'block' : 'none';\n",
              "\n",
              "        async function convertToInteractive(key) {\n",
              "          const element = document.querySelector('#df-d757e488-c5e0-4b80-a24a-b3a8770b2a77');\n",
              "          const dataTable =\n",
              "            await google.colab.kernel.invokeFunction('convertToInteractive',\n",
              "                                                     [key], {});\n",
              "          if (!dataTable) return;\n",
              "\n",
              "          const docLinkHtml = 'Like what you see? Visit the ' +\n",
              "            '<a target=\"_blank\" href=https://colab.research.google.com/notebooks/data_table.ipynb>data table notebook</a>'\n",
              "            + ' to learn more about interactive tables.';\n",
              "          element.innerHTML = '';\n",
              "          dataTable['output_type'] = 'display_data';\n",
              "          await google.colab.output.renderOutput(dataTable, element);\n",
              "          const docLink = document.createElement('div');\n",
              "          docLink.innerHTML = docLinkHtml;\n",
              "          element.appendChild(docLink);\n",
              "        }\n",
              "      </script>\n",
              "    </div>\n",
              "  </div>\n",
              "  "
            ]
          },
          "metadata": {},
          "execution_count": 33
        }
      ]
    },
    {
      "cell_type": "markdown",
      "source": [
        "Podemos ver que palabras se han eliminado las siguientes palabras"
      ],
      "metadata": {
        "id": "CU50djjyCWPb"
      }
    },
    {
      "cell_type": "code",
      "source": [
        "palabras_usadas = {word for word, tfidf in review_vectorizada_df.loc[0].items() if tfidf > 0}\n",
        "palabras_eliminadas = [word for word in review_10.lower().split() if word not in palabras_usadas]\n",
        "print(palabras_usadas)\n",
        "print(palabras_eliminadas)"
      ],
      "metadata": {
        "colab": {
          "base_uri": "https://localhost:8080/"
        },
        "id": "IryvEWCVCWji",
        "outputId": "df1292aa-ed52-453c-f0d5-637e536364c4"
      },
      "execution_count": null,
      "outputs": [
        {
          "output_type": "stream",
          "name": "stdout",
          "text": [
            "{'everything', 'didnt', 'thats', 'phil', 'appeal', 'planet', 'characters', 'interestbr', 'oddness', 'never', 'budget', 'interesting', 'actual', 'brother', 'jokes', 'something', 'movie', 'films', 'find', 'anymorebr', 'humour', 'similar', 'based', 'film', 'low', 'funny', 'odd', 'lost', 'one', 'pretty', 'rather', 'would', 'currently', 'better', 'quirky', 'alien', 'around', 'first', 'eventually', 'another', 'try', 'progressed', 'imagine', 'stoner', 'problem', 'punchlinesbr', 'partakingbr'}\n",
            "['the', 'is', 'of', 'those', 'where', 'the', 'is', 'the', 'of', 'than', 'punchlines.<br', '/><br', '/>at', 'it', 'was', 'very', 'and', 'but', 'as', 'the', 'i', \"didn't\", 'the', 'or', 'anymore.<br', '/><br', '/>its', 'a', '(thats', 'a', 'in', 'itself),', 'there', 'were', 'some', 'characters,', 'but', 'i', 'just', 'interest.<br', '/><br', '/>i', 'this', 'to', 'a', 'who', 'is', 'partaking.<br', '/><br', '/>for', 'but', '\"brother', 'from', 'planet\"']\n"
          ]
        }
      ]
    },
    {
      "cell_type": "markdown",
      "source": [
        "De las palabras eliminadas del review 10, podemos distinguir los siguientes tipos:\n",
        "\n",
        "1. **Stopwords / Palabras vacías**: artículos, preposiciones, adverbios... que no aportan significado semántico a la hora de clasificar los textos. Por ejemplo, *the*, *is*, *of*.\n",
        "2. **Palabras con caracteres especiales**: por ejemplo `punchlines.<br`"
      ],
      "metadata": {
        "id": "t0lFfVQZfBzW"
      }
    },
    {
      "cell_type": "markdown",
      "source": [
        "Notamos además que esta predicción fue correcta"
      ],
      "metadata": {
        "id": "5GdkLCtXD3-X"
      }
    },
    {
      "cell_type": "code",
      "source": [
        "tfidf.tree.classifier.predict(review_vectorizada)"
      ],
      "metadata": {
        "colab": {
          "base_uri": "https://localhost:8080/"
        },
        "id": "nR8NjRHqDkKf",
        "outputId": "c79596af-0def-487d-ef40-08b025bcc660"
      },
      "execution_count": null,
      "outputs": [
        {
          "output_type": "execute_result",
          "data": {
            "text/plain": [
              "array(['negative'], dtype=object)"
            ]
          },
          "metadata": {},
          "execution_count": 35
        }
      ]
    },
    {
      "cell_type": "markdown",
      "source": [
        "## 3) Análisis comparativo final\n",
        "\n",
        "> Se han entrenado varios clasificadores usando vectorizaciones diferentes de los datos. Compara las diferencias entre representaciones para un mismo algoritmo y entre algoritmos. Explica a qué crees que se deben las diferencias.\n"
      ],
      "metadata": {
        "datalore": {
          "node_id": "PhUNZKBvExYZJ4fYmTf3Lw",
          "type": "MD",
          "hide_input_from_viewers": false,
          "hide_output_from_viewers": false,
          "report_properties": {
            "rowId": "ikPMOhSmtrmKNNsHfVZjwj"
          }
        },
        "id": "H837TUsLaG72"
      }
    },
    {
      "cell_type": "markdown",
      "source": [
        "Un resumen de los resultados obtenidos previamente:"
      ],
      "metadata": {
        "id": "LcFhl6lsjfni"
      }
    },
    {
      "cell_type": "code",
      "source": [
        "print(\"Vector de frecuencias, Árbol, porcentaje de aciertos en test:\", np.mean(cv.tree_test_predictions == test_reviews.sentiment))\n",
        "print(\"Vector de frecuencias, Multinomial Naive Bayes, porcentaje de aciertos en test:\", np.mean(cv.mnb_test_predictions == test_reviews.sentiment))\n",
        "print(\"TF-IDF, Árbol, porcentaje de aciertos en test:\", np.mean(tfidf.tree.test_pred == test_reviews.sentiment))\n",
        "print(\"TF-IDF, Multinomial Naive Bayes, porcentaje de aciertos en test:\", np.mean(tfidf.nb.test_pred == test_reviews.sentiment))"
      ],
      "metadata": {
        "colab": {
          "base_uri": "https://localhost:8080/"
        },
        "id": "tb7UkIgNje1w",
        "outputId": "6a07899e-4493-48ce-9832-1f0929b1e08b"
      },
      "execution_count": null,
      "outputs": [
        {
          "output_type": "stream",
          "name": "stdout",
          "text": [
            "Vector de frecuencias, Árbol, porcentaje de aciertos en test: 0.7345\n",
            "Vector de frecuencias, Multinomial Naive Bayes, porcentaje de aciertos en test: 0.8509\n",
            "TF-IDF, Árbol, porcentaje de aciertos en test: 0.7143\n",
            "TF-IDF, Multinomial Naive Bayes, porcentaje de aciertos en test: 0.8629\n"
          ]
        }
      ]
    },
    {
      "cell_type": "markdown",
      "source": [
        "Se puede observar que, independiente de la representación utilizada, las tasas de acierto de un mismo clasificador son casi iguales, con una diferencia de 1% como mucho.\n",
        "\n",
        "La diferencia entre las dos representaciones es que el vector de frecuencias cuenta el número de apariciones de una palabra en un texto, sin hacer ningún tipo de tratamiento extra. Mientras que en TF-IDF, la **importancia de una palabra depende directamente de su frecuencia de aparición en el documento e inversamente a lo común que es en el corpus.**\n",
        "\n",
        "La fórmula de TF-IDF era:\n",
        "\n",
        "$$\n",
        "w_{r,i} = f_{r,i} \\times \\log\\left(\\frac{N}{f_i + 1}\\right)\n",
        "$$\n",
        "\n",
        "Como se ha obtenido un resultado muy parecido a la representación por vector de frecuencias, se debe a que $w_{r,i}$ es muy parecido al $f_{r,i}$ (la frecuencia de aparición del término $i$ en el documento $r$, es el contenido del vector de frecuencias). **Deducimos que $\\log\\left(\\frac{N}{f_i + 1}\\right)$ es un constante para todo $i$.**\n"
      ],
      "metadata": {
        "id": "bq6fBWb4mjmy"
      }
    },
    {
      "cell_type": "markdown",
      "source": [
        "> Analiza con detalle el mejor clasificador de cada tipo. "
      ],
      "metadata": {
        "id": "gH-y3g40jTjJ"
      }
    },
    {
      "cell_type": "code",
      "source": [
        "from sklearn.metrics import classification_report, confusion_matrix"
      ],
      "metadata": {
        "id": "Zzkrm0r8twTj"
      },
      "execution_count": null,
      "outputs": []
    },
    {
      "cell_type": "markdown",
      "source": [
        "Tanto en vector de frecuencias como TF-IDF, el clasificador con mayor tasa de aciertos en el conjunto de test ha sido el **clasificador Naive Bayes multinomial. **\n",
        "\n",
        "Vamos a calcular su rendimiento:"
      ],
      "metadata": {
        "id": "X3f3eFOnsO44"
      }
    },
    {
      "cell_type": "code",
      "source": [
        "print(classification_report(test_reviews.sentiment, cv.mnb_test_predictions))"
      ],
      "execution_count": null,
      "outputs": [
        {
          "output_type": "stream",
          "name": "stdout",
          "text": [
            "              precision    recall  f1-score   support\n",
            "\n",
            "    negative       0.84      0.87      0.85      4988\n",
            "    positive       0.87      0.83      0.85      5012\n",
            "\n",
            "    accuracy                           0.85     10000\n",
            "   macro avg       0.85      0.85      0.85     10000\n",
            "weighted avg       0.85      0.85      0.85     10000\n",
            "\n"
          ]
        }
      ],
      "metadata": {
        "datalore": {
          "node_id": "2YpyN9uIzp47gFd6BjJHaD",
          "type": "CODE",
          "hide_input_from_viewers": false,
          "hide_output_from_viewers": false,
          "report_properties": {
            "rowId": "fsBdwkxL1oIC2qPIBxa7Lt"
          }
        },
        "id": "RgRZZiS8aG72",
        "colab": {
          "base_uri": "https://localhost:8080/"
        },
        "outputId": "82065759-9753-4463-fc8e-6346803b36a2"
      }
    },
    {
      "cell_type": "markdown",
      "source": [
        "Se puede observar que la métrica para las dos clases son muy parecidas (precisión, recall y F1), cercanos al 0.85."
      ],
      "metadata": {
        "id": "pUmt0t20t_h9"
      }
    },
    {
      "cell_type": "markdown",
      "source": [
        "Veamos su **matriz de confusión.**"
      ],
      "metadata": {
        "id": "2OJPyOAeuJ6u"
      }
    },
    {
      "cell_type": "code",
      "source": [
        "%matplotlib inline\n",
        "import pandas as pd\n",
        "import seaborn as sn\n",
        "import matplotlib.pyplot as plt\n",
        "\n",
        "conf_matrix = confusion_matrix(test_reviews.sentiment, cv.mnb_test_predictions)"
      ],
      "metadata": {
        "id": "hf9dk9f4uJoY"
      },
      "execution_count": null,
      "outputs": []
    },
    {
      "cell_type": "code",
      "source": [
        "conf_matrix"
      ],
      "metadata": {
        "colab": {
          "base_uri": "https://localhost:8080/"
        },
        "id": "G_5oJqZPvFSG",
        "outputId": "4685f5c3-6771-4ed4-caa8-2d851a70bc8f"
      },
      "execution_count": null,
      "outputs": [
        {
          "output_type": "execute_result",
          "data": {
            "text/plain": [
              "array([[4357,  631],\n",
              "       [ 860, 4152]])"
            ]
          },
          "metadata": {},
          "execution_count": 40
        }
      ]
    },
    {
      "cell_type": "code",
      "source": [
        "conf_matrix_df = pd.DataFrame(conf_matrix, index=(\"negative\", \"positive\"), columns=(\"negative\", \"positive\"))\n",
        "\n",
        "plt.figure(figsize=(15, 10))\n",
        "sn.heatmap(conf_matrix_df, annot=True, vmin=0, vmax=conf_matrix.max(), fmt='d', cmap=\"YlGnBu\")\n",
        "plt.yticks(rotation=0)\n",
        "plt.xticks(rotation=90)"
      ],
      "metadata": {
        "colab": {
          "base_uri": "https://localhost:8080/",
          "height": 894
        },
        "id": "Zybu5ofUvGpJ",
        "outputId": "23e78329-c170-44c7-9b88-d8102936dc01"
      },
      "execution_count": null,
      "outputs": [
        {
          "output_type": "execute_result",
          "data": {
            "text/plain": [
              "(array([0.5, 1.5]), [Text(0.5, 0, 'negative'), Text(1.5, 0, 'positive')])"
            ]
          },
          "metadata": {},
          "execution_count": 41
        },
        {
          "output_type": "display_data",
          "data": {
            "text/plain": [
              "<Figure size 1500x1000 with 2 Axes>"
            ],
            "image/png": "[encoded data removed]"
          },
          "metadata": {}
        }
      ]
    },
    {
      "cell_type": "markdown",
      "source": [
        "> Indica las palabras más relevantes."
      ],
      "metadata": {
        "id": "ZchQFcnR2Kw4"
      }
    },
    {
      "cell_type": "markdown",
      "source": [
        "Extraemos las palabras más relevantes de cada clase:"
      ],
      "metadata": {
        "id": "ruJVT4YOvNXl"
      }
    },
    {
      "cell_type": "code",
      "source": [
        "def print_top20_features_per_class_in_NB(vectorizer, clf, class_labels):\n",
        "    \"\"\"Prints features with the highest coefficient values, per class\"\"\"\n",
        "    feature_names = vectorizer.get_feature_names_out()\n",
        "    print(\"Top 20 features per class\\n\")\n",
        "    for i, class_label in enumerate(class_labels):\n",
        "        top20 = np.argsort(clf.feature_log_prob_[i])[-20:]\n",
        "        reversed_top = top20[::-1]\n",
        "        \n",
        "        print(\"%s: %s\" % (class_label,\n",
        "              \" / \".join(feature_names[j] for j in reversed_top)),'\\n')\n",
        "        \n",
        "        #Descomentar para ver el índice de los términos en el diccionario\n",
        "        #print(\"%s \" % (\" / \".join(str(j) for j in reversed_top)),'\\n')"
      ],
      "metadata": {
        "id": "IWmTDnkvvTDv"
      },
      "execution_count": null,
      "outputs": []
    },
    {
      "cell_type": "code",
      "source": [
        "print_top20_features_per_class_in_NB(cv.vectorizer, cv.mnb_classifier, test_reviews.sentiment.unique())       "
      ],
      "metadata": {
        "colab": {
          "base_uri": "https://localhost:8080/"
        },
        "id": "nevJsbybvU7Q",
        "outputId": "81a9c74f-f272-41a1-dc5c-c2616ac6d1e4"
      },
      "execution_count": null,
      "outputs": [
        {
          "output_type": "stream",
          "name": "stdout",
          "text": [
            "Top 20 features per class\n",
            "\n",
            "negative: movie / film / like / bad / good / really / time / dont / story / people / make / movies / acting / plot / characters / way / watch / think / films / know \n",
            "\n",
            "positive: film / movie / like / good / great / story / time / really / people / love / films / best / way / life / characters / think / movies / dont / seen / character \n",
            "\n"
          ]
        }
      ]
    },
    {
      "cell_type": "markdown",
      "source": [
        "La verdad es que **no hay palabras muy significativas que permite distinguir una clase de la otra**. Quizá esa es la razón por la cual el clasificador de árbol no funciona tan bien.\n",
        "\n",
        "Para solucionar este problema, como nuestro dataset son reviews de películas, **deberíamos descartar palabras específicos de este dominio**, como por ejemplo *movie*. Con eso, le daríamos importancia a otras palabras menos frecuentes, y quizá clasifica mejor."
      ],
      "metadata": {
        "id": "GwV01FZywZT5"
      }
    },
    {
      "cell_type": "markdown",
      "source": [
        "> Busca un ejemplo mal clasificado de cada clase, justifica el error ¿se te ocurre alguna forma de solucionarlo?"
      ],
      "metadata": {
        "id": "iN2yne602NSo"
      }
    },
    {
      "cell_type": "markdown",
      "source": [
        "Vamos a extrar ejemplos mal clasificados:"
      ],
      "metadata": {
        "id": "bDiMepd3wrqJ"
      }
    },
    {
      "cell_type": "code",
      "source": [
        "wrong = [(review, prediction) for review, prediction, sentiment in zip(test_reviews.reviews, cv.mnb_test_predictions, test_reviews.sentiment) if prediction != sentiment]\n",
        "\n",
        "# Textos clasificada como positive cuando no lo es\n",
        "falsePositive = [review for review, prediction in wrong if prediction == \"positive\"]\n",
        "\n",
        "# Textos clasificada como negative cuando no lo es\n",
        "falseNegative = [review for review, prediction in wrong if prediction == \"negative\"]"
      ],
      "metadata": {
        "id": "3-P5oAsQw0Jz"
      },
      "execution_count": null,
      "outputs": []
    },
    {
      "cell_type": "code",
      "source": [
        "print(\"Un ejemplo de falso positivo: \")\n",
        "print(falsePositive[0])"
      ],
      "metadata": {
        "colab": {
          "base_uri": "https://localhost:8080/"
        },
        "id": "rsX52Bri1Ojx",
        "outputId": "390db435-cb43-45e5-890d-2058e8e61479"
      },
      "execution_count": null,
      "outputs": [
        {
          "output_type": "stream",
          "name": "stdout",
          "text": [
            "Un ejemplo de falso positivo: \n",
            "although film made dogme emerged predominant method filmmaking digital triumphed strike get point masterpiece clearly anticipated developments corin nemec outstanding neer well author narrator pace slow elegantly cinematography beautiful record next time tv guarantee youll never see better nostalgia ripoff madefor tv movie directtovideo never felt good\n"
          ]
        }
      ]
    },
    {
      "cell_type": "code",
      "source": [
        "print(\"Un ejemplo de falso negativo: \")\n",
        "print(falseNegative[0])"
      ],
      "metadata": {
        "colab": {
          "base_uri": "https://localhost:8080/"
        },
        "id": "IS02wMrw1bB9",
        "outputId": "d5cad0f2-aa2d-459a-fdf4-9767cb591b7f"
      },
      "execution_count": null,
      "outputs": [
        {
          "output_type": "stream",
          "name": "stdout",
          "text": [
            "Un ejemplo de falso negativo: \n",
            "nothing new tired seriocomedy wastes talents danny glover whoopi goldberg considering produced stars spike lee pretty tame tired stuff come whoop never changes hair glasses many years film covers blah\n"
          ]
        }
      ]
    },
    {
      "cell_type": "markdown",
      "source": [
        "Como había comentado anteriormente, una forma de mejorar la clasificación viendo las palabras más utilizadas sería introducir un diccionario con las palabras frecuentes de nuestro dominio de reseña de películas, y eliminar esas palabras del corpus durante el proceso de normalización."
      ],
      "metadata": {
        "id": "iFixSkg12P4k"
      }
    }
  ],
  "metadata": {
    "kernelspec": {
      "display_name": "Python",
      "language": "python",
      "name": "python"
    },
    "datalore": {
      "computation_mode": "JUPYTER",
      "package_manager": "pip",
      "base_environment": "default",
      "packages": [],
      "report_row_ids": [
        "DAWC3av5njPsq24TGUOPot",
        "T17kpeNzONxGse3e3lvkMV",
        "vZRaugsafcRRNWPPA91xbd",
        "FbJjuTjBICwUV15evczWNg",
        "cX7OCml5ZZG34SSBxtTWfU",
        "00oaOH8vlueBVxkeov5NWL",
        "p7yS4eGqVUk19nilhVbs9V",
        "Pn7v52CEAeR6JRGfTYYk48",
        "rdg510JOHZHufnfSZV2pc9",
        "dsiJQ35hRH748LNbu6QRws",
        "ikPMOhSmtrmKNNsHfVZjwj",
        "fsBdwkxL1oIC2qPIBxa7Lt"
      ],
      "version": 3
    },
    "colab": {
      "provenance": []
    }
  },
  "nbformat": 4,
  "nbformat_minor": 0
}